{
 "cells": [
  {
   "cell_type": "code",
   "execution_count": null,
   "metadata": {},
   "outputs": [],
   "source": [
    "from functools import partial\n",
    "from pathlib import Path\n",
    "\n",
    "from fastcore.xtras import Path\n",
    "\n",
    "import pandas as pd\n",
    "import numpy as np\n",
    "\n",
    "import torch\n",
    "from torch.utils.data import DataLoader\n",
    "from torch.optim import AdamW\n",
    "from torch.optim.lr_scheduler import OneCycleLR\n",
    "\n",
    "import datasets\n",
    "from transformers import AutoTokenizer, AutoModelForSequenceClassification\n",
    "from transformers.data.data_collator import default_data_collator\n",
    "\n",
    "from composer import Trainer\n",
    "from composer.models import HuggingFaceModel\n",
    "from composer.metrics import CrossEntropy\n",
    "from composer.loggers import WandBLogger\n",
    "\n",
    "from torchmetrics import F1Score"
   ]
  },
  {
   "cell_type": "code",
   "execution_count": null,
   "metadata": {},
   "outputs": [],
   "source": [
    "path = Path('../data')"
   ]
  },
  {
   "cell_type": "code",
   "execution_count": null,
   "metadata": {},
   "outputs": [
    {
     "data": {
      "text/plain": [
       "(#3) [Path('../data/Train.csv'),Path('../data/test.csv'),Path('../data/Sample Submission.csv')]"
      ]
     },
     "execution_count": null,
     "metadata": {},
     "output_type": "execute_result"
    }
   ],
   "source": [
    "path.ls()"
   ]
  },
  {
   "cell_type": "code",
   "execution_count": null,
   "metadata": {},
   "outputs": [],
   "source": [
    "train_df = pd.read_csv(path/'Train.csv', index_col='Id')\n",
    "test_df = pd.read_csv(path/'test.csv', index_col='Id')"
   ]
  },
  {
   "cell_type": "code",
   "execution_count": null,
   "metadata": {},
   "outputs": [
    {
     "data": {
      "text/html": [
       "<div>\n",
       "<style scoped>\n",
       "    .dataframe tbody tr th:only-of-type {\n",
       "        vertical-align: middle;\n",
       "    }\n",
       "\n",
       "    .dataframe tbody tr th {\n",
       "        vertical-align: top;\n",
       "    }\n",
       "\n",
       "    .dataframe thead th {\n",
       "        text-align: right;\n",
       "    }\n",
       "</style>\n",
       "<table border=\"1\" class=\"dataframe\">\n",
       "  <thead>\n",
       "    <tr style=\"text-align: right;\">\n",
       "      <th></th>\n",
       "      <th>description</th>\n",
       "      <th>medical_specialty</th>\n",
       "      <th>sample_name</th>\n",
       "      <th>transcription</th>\n",
       "    </tr>\n",
       "    <tr>\n",
       "      <th>Id</th>\n",
       "      <th></th>\n",
       "      <th></th>\n",
       "      <th></th>\n",
       "      <th></th>\n",
       "    </tr>\n",
       "  </thead>\n",
       "  <tbody>\n",
       "    <tr>\n",
       "      <th>1</th>\n",
       "      <td>Patient had a recurrent left arm pain after h...</td>\n",
       "      <td>Cardiovascular / Pulmonary</td>\n",
       "      <td>Angina - Consult</td>\n",
       "      <td>HISTORY OF PRESENT ILLNESS: , The patient is a...</td>\n",
       "    </tr>\n",
       "    <tr>\n",
       "      <th>2</th>\n",
       "      <td>The patient is an 84-year-old female presente...</td>\n",
       "      <td>Cardiovascular / Pulmonary</td>\n",
       "      <td>Pericardial Effusion</td>\n",
       "      <td>REASON FOR CONSULTATION:,  Pericardial effusio...</td>\n",
       "    </tr>\n",
       "    <tr>\n",
       "      <th>3</th>\n",
       "      <td>Hand dermatitis.</td>\n",
       "      <td>Dermatology</td>\n",
       "      <td>Dermatitis - SOAP</td>\n",
       "      <td>SUBJECTIVE:,  This is a 29-year-old Vietnamese...</td>\n",
       "    </tr>\n",
       "    <tr>\n",
       "      <th>4</th>\n",
       "      <td>Recurrent degenerative spondylolisthesis and ...</td>\n",
       "      <td>Surgery</td>\n",
       "      <td>Lumbar Re-exploration</td>\n",
       "      <td>PREOPERATIVE DIAGNOSIS: , Recurrent degenerati...</td>\n",
       "    </tr>\n",
       "    <tr>\n",
       "      <th>5</th>\n",
       "      <td>Chiropractic IME with old files review.  Deta...</td>\n",
       "      <td>IME-QME-Work Comp etc.</td>\n",
       "      <td>Chiropractic IME - 2</td>\n",
       "      <td>DATE OF INJURY : October 4, 2000,DATE OF EXAMI...</td>\n",
       "    </tr>\n",
       "    <tr>\n",
       "      <th>...</th>\n",
       "      <td>...</td>\n",
       "      <td>...</td>\n",
       "      <td>...</td>\n",
       "      <td>...</td>\n",
       "    </tr>\n",
       "    <tr>\n",
       "      <th>3380</th>\n",
       "      <td>Morbid obesity.  Laparoscopic Roux-en-Y gastr...</td>\n",
       "      <td>Surgery</td>\n",
       "      <td>Laparoscopic Gastric Bypass - 1</td>\n",
       "      <td>PREOPERATIVE DIAGNOSIS: , Morbid obesity. ,POS...</td>\n",
       "    </tr>\n",
       "    <tr>\n",
       "      <th>3381</th>\n",
       "      <td>Lateral and plantar condylectomy, fifth left ...</td>\n",
       "      <td>Surgery</td>\n",
       "      <td>Condylectomy</td>\n",
       "      <td>TITLE OF OPERATION:,  Lateral and plantar cond...</td>\n",
       "    </tr>\n",
       "    <tr>\n",
       "      <th>3382</th>\n",
       "      <td>Right heart and left heart catheterization by...</td>\n",
       "      <td>Surgery</td>\n",
       "      <td>Cardiac Catheterization - 6</td>\n",
       "      <td>PRECATHETERIZATION DIAGNOSIS (ES):, Hypoplasti...</td>\n",
       "    </tr>\n",
       "    <tr>\n",
       "      <th>3383</th>\n",
       "      <td>Left axillary lymph node excisional biopsy.  ...</td>\n",
       "      <td>Surgery</td>\n",
       "      <td>Lymph Node Excisional Biopsy</td>\n",
       "      <td>PREOPERATIVE DIAGNOSIS: , Left axillary adenop...</td>\n",
       "    </tr>\n",
       "    <tr>\n",
       "      <th>3384</th>\n",
       "      <td>Aspiration pneumonia and chronic obstructive ...</td>\n",
       "      <td>Discharge Summary</td>\n",
       "      <td>Pneumonia &amp; COPD - Discharge Summary</td>\n",
       "      <td>ADMISSION DIAGNOSES:,1.  Pneumonia, likely sec...</td>\n",
       "    </tr>\n",
       "  </tbody>\n",
       "</table>\n",
       "<p>3384 rows × 4 columns</p>\n",
       "</div>"
      ],
      "text/plain": [
       "                                            description   \n",
       "Id                                                        \n",
       "1      Patient had a recurrent left arm pain after h...  \\\n",
       "2      The patient is an 84-year-old female presente...   \n",
       "3                                      Hand dermatitis.   \n",
       "4      Recurrent degenerative spondylolisthesis and ...   \n",
       "5      Chiropractic IME with old files review.  Deta...   \n",
       "...                                                 ...   \n",
       "3380   Morbid obesity.  Laparoscopic Roux-en-Y gastr...   \n",
       "3381   Lateral and plantar condylectomy, fifth left ...   \n",
       "3382   Right heart and left heart catheterization by...   \n",
       "3383   Left axillary lymph node excisional biopsy.  ...   \n",
       "3384   Aspiration pneumonia and chronic obstructive ...   \n",
       "\n",
       "                medical_specialty                             sample_name   \n",
       "Id                                                                          \n",
       "1      Cardiovascular / Pulmonary                       Angina - Consult   \\\n",
       "2      Cardiovascular / Pulmonary                   Pericardial Effusion    \n",
       "3                     Dermatology                      Dermatitis - SOAP    \n",
       "4                         Surgery                  Lumbar Re-exploration    \n",
       "5          IME-QME-Work Comp etc.                   Chiropractic IME - 2    \n",
       "...                           ...                                     ...   \n",
       "3380                      Surgery        Laparoscopic Gastric Bypass - 1    \n",
       "3381                      Surgery                           Condylectomy    \n",
       "3382                      Surgery            Cardiac Catheterization - 6    \n",
       "3383                      Surgery           Lymph Node Excisional Biopsy    \n",
       "3384            Discharge Summary   Pneumonia & COPD - Discharge Summary    \n",
       "\n",
       "                                          transcription  \n",
       "Id                                                       \n",
       "1     HISTORY OF PRESENT ILLNESS: , The patient is a...  \n",
       "2     REASON FOR CONSULTATION:,  Pericardial effusio...  \n",
       "3     SUBJECTIVE:,  This is a 29-year-old Vietnamese...  \n",
       "4     PREOPERATIVE DIAGNOSIS: , Recurrent degenerati...  \n",
       "5     DATE OF INJURY : October 4, 2000,DATE OF EXAMI...  \n",
       "...                                                 ...  \n",
       "3380  PREOPERATIVE DIAGNOSIS: , Morbid obesity. ,POS...  \n",
       "3381  TITLE OF OPERATION:,  Lateral and plantar cond...  \n",
       "3382  PRECATHETERIZATION DIAGNOSIS (ES):, Hypoplasti...  \n",
       "3383  PREOPERATIVE DIAGNOSIS: , Left axillary adenop...  \n",
       "3384  ADMISSION DIAGNOSES:,1.  Pneumonia, likely sec...  \n",
       "\n",
       "[3384 rows x 4 columns]"
      ]
     },
     "execution_count": null,
     "metadata": {},
     "output_type": "execute_result"
    }
   ],
   "source": [
    "train_df"
   ]
  },
  {
   "cell_type": "code",
   "execution_count": null,
   "metadata": {},
   "outputs": [
    {
     "data": {
      "text/html": [
       "<div>\n",
       "<style scoped>\n",
       "    .dataframe tbody tr th:only-of-type {\n",
       "        vertical-align: middle;\n",
       "    }\n",
       "\n",
       "    .dataframe tbody tr th {\n",
       "        vertical-align: top;\n",
       "    }\n",
       "\n",
       "    .dataframe thead th {\n",
       "        text-align: right;\n",
       "    }\n",
       "</style>\n",
       "<table border=\"1\" class=\"dataframe\">\n",
       "  <thead>\n",
       "    <tr style=\"text-align: right;\">\n",
       "      <th></th>\n",
       "      <th>description</th>\n",
       "      <th>medical_specialty</th>\n",
       "      <th>sample_name</th>\n",
       "      <th>transcription</th>\n",
       "    </tr>\n",
       "  </thead>\n",
       "  <tbody>\n",
       "    <tr>\n",
       "      <th>count</th>\n",
       "      <td>3384</td>\n",
       "      <td>3384</td>\n",
       "      <td>3384</td>\n",
       "      <td>3360</td>\n",
       "    </tr>\n",
       "    <tr>\n",
       "      <th>unique</th>\n",
       "      <td>1800</td>\n",
       "      <td>35</td>\n",
       "      <td>1825</td>\n",
       "      <td>1810</td>\n",
       "    </tr>\n",
       "    <tr>\n",
       "      <th>top</th>\n",
       "      <td>Common description of colonoscopy</td>\n",
       "      <td>Surgery</td>\n",
       "      <td>Lumbar Discogram</td>\n",
       "      <td>PREOPERATIVE DIAGNOSIS: , Low back pain.,POSTO...</td>\n",
       "    </tr>\n",
       "    <tr>\n",
       "      <th>freq</th>\n",
       "      <td>10</td>\n",
       "      <td>788</td>\n",
       "      <td>5</td>\n",
       "      <td>5</td>\n",
       "    </tr>\n",
       "  </tbody>\n",
       "</table>\n",
       "</div>"
      ],
      "text/plain": [
       "                               description medical_specialty   \n",
       "count                                 3384              3384  \\\n",
       "unique                                1800                35   \n",
       "top      Common description of colonoscopy           Surgery   \n",
       "freq                                    10               788   \n",
       "\n",
       "               sample_name                                      transcription  \n",
       "count                 3384                                               3360  \n",
       "unique                1825                                               1810  \n",
       "top      Lumbar Discogram   PREOPERATIVE DIAGNOSIS: , Low back pain.,POSTO...  \n",
       "freq                     5                                                  5  "
      ]
     },
     "execution_count": null,
     "metadata": {},
     "output_type": "execute_result"
    }
   ],
   "source": [
    "train_df.describe(include='object')"
   ]
  },
  {
   "cell_type": "code",
   "execution_count": null,
   "metadata": {},
   "outputs": [
    {
     "data": {
      "text/plain": [
       "array([' Cardiovascular / Pulmonary', ' Dermatology', ' Surgery',\n",
       "       ' IME-QME-Work Comp etc.', ' General Medicine', ' Orthopedic',\n",
       "       ' Gastroenterology', ' Pain Management',\n",
       "       ' Consult - History and Phy.', ' Radiology',\n",
       "       ' Hematology - Oncology', ' Neurology', ' Nephrology', ' Podiatry',\n",
       "       ' Office Notes', ' Rheumatology', ' Neurosurgery',\n",
       "       ' Endocrinology', ' Discharge Summary', ' Bariatrics',\n",
       "       ' SOAP / Chart / Progress Notes', ' ENT - Otolaryngology',\n",
       "       ' Ophthalmology', ' Letters', ' Cosmetic / Plastic Surgery',\n",
       "       ' Dentistry', ' Physical Medicine - Rehab',\n",
       "       ' Psychiatry / Psychology', ' Autopsy', ' Sleep Medicine',\n",
       "       ' Speech - Language', ' Allergy / Immunology',\n",
       "       ' Lab Medicine - Pathology', ' Chiropractic', ' SCARF type'],\n",
       "      dtype=object)"
      ]
     },
     "execution_count": null,
     "metadata": {},
     "output_type": "execute_result"
    }
   ],
   "source": [
    "train_df.medical_specialty.unique()"
   ]
  },
  {
   "cell_type": "code",
   "execution_count": null,
   "metadata": {},
   "outputs": [],
   "source": [
    "sample = train_df.iloc[0]"
   ]
  },
  {
   "cell_type": "code",
   "execution_count": null,
   "metadata": {},
   "outputs": [
    {
     "data": {
      "text/plain": [
       "' Patient had a recurrent left arm pain after her stent, three days ago, and this persisted after two sublingual nitroglycerin.'"
      ]
     },
     "execution_count": null,
     "metadata": {},
     "output_type": "execute_result"
    }
   ],
   "source": [
    "sample.description"
   ]
  },
  {
   "cell_type": "code",
   "execution_count": null,
   "metadata": {},
   "outputs": [
    {
     "data": {
      "text/plain": [
       "' Cardiovascular / Pulmonary'"
      ]
     },
     "execution_count": null,
     "metadata": {},
     "output_type": "execute_result"
    }
   ],
   "source": [
    "sample.medical_specialty"
   ]
  },
  {
   "cell_type": "code",
   "execution_count": null,
   "metadata": {},
   "outputs": [
    {
     "data": {
      "text/plain": [
       "' Angina - Consult '"
      ]
     },
     "execution_count": null,
     "metadata": {},
     "output_type": "execute_result"
    }
   ],
   "source": [
    "sample.sample_name"
   ]
  },
  {
   "cell_type": "code",
   "execution_count": null,
   "metadata": {},
   "outputs": [
    {
     "data": {
      "text/plain": [
       "'HISTORY OF PRESENT ILLNESS: , The patient is a 68-year-old woman whom I have been following, who has had angina.  In any case today, she called me because she had a recurrent left arm pain after her stent, three days ago, and this persisted after two sublingual nitroglycerin when I spoke to her.  I advised her to call 911, which she did.  While waiting for 911, she was attended to by a physician who is her neighbor and he advised her to take the third nitroglycerin and that apparently relieved her pain.  By the time she presented here, she is currently pain-free and is feeling well.,PAST CARDIAC HISTORY: , The patient has been having arm pain for several months.  She underwent an exercise stress echocardiogram within the last several months with me, which was equivocal, but then she had a nuclear stress test which showed inferobasilar ischemia.  I had originally advised her for a heart catheterization but she wanted medical therapy, so we put her on a beta-blocker.  However, her arm pain symptoms accelerated and she had some jaw pain, so she presented to the emergency room.  On 08/16/08, she ended up having a cardiac catheterization and that showed normal left main 80%  mid LAD lesion, circumflex normal, and RCA totally occluded in the mid portion and there were collaterals from the left to the right, as well as right to right to that area.  The decision was made to transfer  her as she may be having collateral insufficiency from the LAD stenosis to the RCA vessel.  She underwent that with drug-eluting stents on 08/16/08, with I believe three or four total placed, and was discharged on 08/17/08.  She had some left arm discomfort on 08/18/08, but this was mild.  Yesterday, she felt very fatigued, but no arm pain, and today, she had arm pain after walking and again it resolved now completely after three sublingual nitroglycerin.  This is her usual angina.  She is being admitted with unstable angina post stent.,PAST MEDICAL HISTORY: , Longstanding hypertension, CAD as above, hyperlipidemia, and overactive bladder.,MEDICATIONS:,1.  Detrol LA 2 mg once a day.,2.  Prilosec for GERD 20 mg once a day.,3.  Glucosamine 500/400 mg once a day for arthritis.,4.  Multivitamin p.o. daily.,5.  Nitroglycerin sublingual as available to her.,6.  Toprol-XL 25 mg once a day which I started although she had been bradycardic, but she seems to be tolerating.,7.  Aspirin 325 mg once a day.,8.  Plavix 75 mg once a day.,9.  Diovan 160 mg once a day.,10.  Claritin 10 mg once a day for allergic rhinitis.,11.  Norvasc 5 mg once a day.,12.  Lipitor 5 mg once a day.,13.  Evista 60 mg once a day.,ALLERGIES: , ALLERGIES TO MEDICATIONS ARE NONE.  SHE DENIES ANY SHRIMP OR SEA FOOD ALLERGY.,FAMILY HISTORY: , Her father died of an MI in his 50s and a brother had his first MI and bypass surgery at 54.,SOCIAL HISTORY:  ,She does not smoke cigarettes, abuse alcohol, no use of illicit drugs.  She is divorced and lives alone and is a retired laboratory technician from Cornell Diagnostic Laboratory.,REVIEW OF SYSTEMS:,  She denies a history of stroke, cancer, vomiting up blood, coughing up blood, bright red blood per rectum, bleeding stomach ulcers, renal calculi, cholelithiasis, asthma, emphysema, pneumonia, tuberculosis, home oxygen use or sleep apnea, although she has been told in the past that she snores and there was some question of apnea in 05/08.  No morning headaches or fatigue.  No psychiatric diagnosis.  No psoriasis, no lupus.  Remainder of the review of systems is negative x14 systems except as described above.,PHYSICAL EXAMINATION:,GENERAL:  She is a pleasant elderly woman, currently in no acute distress.,VITAL SIGNS:  Height 4 feet 11 inches, weight 128 pounds, temperature 97.2 degrees Fahrenheit, blood pressure 142/70, pulse 47,  respiratory rate 16, and O2 saturation 100%,HEENT:  Cranium is normocephalic and atraumatic.  She has moist mucosal membranes.,NECK:  Veins are not distended.  There are no carotid bruits.,LUNGS:  Clear to auscultation and percussion without wheezes.,HEART:  S1 and S2, regular rate.  No significant murmurs, rubs or gallops.  PMI nondisplaced.,ABDOMEN:  Soft and nondistended.  Bowel sounds present.,EXTREMITIES:  Without significant clubbing, cyanosis or edema.  Pulses grossly intact.  Bilateral groins are inspected, status post as the right femoral artery was used for access for the diagnostic cardiac catheterization here and left femoral artery used for PCI and there is no evidence of hematoma or bruit and intact distal pulses.,LABORATORY DATA: , EKG reviewed which shows sinus bradycardia at the rate of 51 beats per minute and no acute disease.,Sodium 136, potassium 3.8, chloride 105, and bicarbonate 27.  BUN 16 and creatinine 0.9.  Glucose 110.  Magnesium 2.5.  ALT 107 and AST 65 and these were normal on 08/15/08.  INR is 0.89, PTT 20.9, white blood cell count 8.2, hematocrit 31 and it was 35 on 08/15/08, and platelet count 257,000.,IMPRESSION AND PLAN:  ,The patient is a 68-year-old woman with exertional angina, characterized with arm pain, who underwent recent left anterior descending percutaneous coronary intervention and has now had recurrence of that arm pain post stenting to the left anterior descending artery and it may be that she is continuing to have collateral insufficiency of the right coronary artery.  In any case, given this unstable presentation requiring three sublingual nitroglycerin before she was even pain free, I am going to admit her to the hospital and there is currently no evidence requiring acute reperfusion therapy.  We will continue her beta-blocker and I cannot increase the dose because she is bradycardic already.  Aspirin, Plavix, valsartan, Lipitor, and Norvasc.  I am going to add Imdur and watch headaches as she apparently had some on nitro paste before, and we will rule out MI, although there is a little suspicion.  I suppose it is possible that she has non-cardiac arm pain, but that seems less likely as it has been nitrate responsive and seems exertionally related and the other possibility may be that we end up needing to put in a pacemaker, so we can maximize beta-blocker use for anti-anginal effect.  My concern is that there is persistent right coronary artery ischemia, not helped by left anterior descending percutaneous coronary intervention, which was severely stenotic and she does have normal LV function.  She will continue the glucosamine for her arthritis, Claritin for allergies, and Detrol LA for urinary incontinence.,Total patient care time in the emergency department 75 minutes.  All this was discussed in detail with the patient and her daughter who expressed understanding and agreement.  The patient desires full resuscitation status.'"
      ]
     },
     "execution_count": null,
     "metadata": {},
     "output_type": "execute_result"
    }
   ],
   "source": [
    "sample.transcription"
   ]
  },
  {
   "cell_type": "code",
   "execution_count": null,
   "metadata": {},
   "outputs": [
    {
     "data": {
      "text/plain": [
       "medical_specialty\n",
       " Surgery                          788\n",
       " Consult - History and Phy.       310\n",
       " Cardiovascular / Pulmonary       309\n",
       " Orthopedic                       294\n",
       " Radiology                        225\n",
       " Gastroenterology                 189\n",
       " General Medicine                 188\n",
       " Neurology                        166\n",
       " SOAP / Chart / Progress Notes    130\n",
       " ENT - Otolaryngology              79\n",
       " Discharge Summary                 75\n",
       " Neurosurgery                      73\n",
       " Hematology - Oncology             72\n",
       " Nephrology                        69\n",
       " Ophthalmology                     64\n",
       " Pain Management                   55\n",
       " Podiatry                          43\n",
       " Office Notes                      35\n",
       " Dermatology                       23\n",
       " Psychiatry / Psychology           22\n",
       " Dentistry                         21\n",
       " Cosmetic / Plastic Surgery        19\n",
       " Letters                           18\n",
       " Physical Medicine - Rehab         17\n",
       " Sleep Medicine                    17\n",
       " Endocrinology                     14\n",
       " IME-QME-Work Comp etc.            13\n",
       " Bariatrics                        12\n",
       " Chiropractic                      11\n",
       " Speech - Language                  9\n",
       " Rheumatology                       8\n",
       " Lab Medicine - Pathology           8\n",
       " Allergy / Immunology               5\n",
       " Autopsy                            2\n",
       " SCARF type                         1\n",
       "Name: count, dtype: int64"
      ]
     },
     "execution_count": null,
     "metadata": {},
     "output_type": "execute_result"
    }
   ],
   "source": [
    "train_df.medical_specialty.value_counts()"
   ]
  },
  {
   "cell_type": "code",
   "execution_count": null,
   "metadata": {},
   "outputs": [
    {
     "data": {
      "image/png": "[encoded data removed]",
      "text/plain": [
       "<Figure size 1000x1000 with 1 Axes>"
      ]
     },
     "metadata": {},
     "output_type": "display_data"
    }
   ],
   "source": [
    "train_df.medical_specialty.value_counts(ascending=True).plot.barh(figsize=(10, 10));"
   ]
  },
  {
   "cell_type": "code",
   "execution_count": null,
   "metadata": {},
   "outputs": [
    {
     "data": {
      "text/plain": [
       "sample_name\n",
       " Lumbar Discogram                              5\n",
       " Burn - Consult                                4\n",
       " Normal ENT Exam - 1                           4\n",
       " Chest Pain & Respiratory Insufficiency        4\n",
       " Normal ENT Exam                               4\n",
       "                                              ..\n",
       " Septoplasty & Turbinectomy                    1\n",
       " Foot Pain - SOAP                              1\n",
       " Inguinal Hernia Repair - 3                    1\n",
       " Laparoscopic Orchiopexy                       1\n",
       " Therapeutic Recreation Initial Evaluation     1\n",
       "Name: count, Length: 1825, dtype: int64"
      ]
     },
     "execution_count": null,
     "metadata": {},
     "output_type": "execute_result"
    }
   ],
   "source": [
    "train_df.sample_name.value_counts()"
   ]
  },
  {
   "cell_type": "code",
   "execution_count": null,
   "metadata": {},
   "outputs": [
    {
     "data": {
      "text/plain": [
       "sample_name\n",
       " Teeth Extraction & I&D            2\n",
       " Scleral Buckle Opening            2\n",
       " Radical Mastectomy                2\n",
       " Uveitis                           2\n",
       " Resection of Tumor of Scalp       2\n",
       "                                  ..\n",
       " Septoplasty & Turbinectomy        1\n",
       " Styloidectomy                     1\n",
       " SOAP - Lung Mass                  1\n",
       " Pericardial Effusion              1\n",
       " Hematuria & Urinary Retention     1\n",
       "Name: count, Length: 291, dtype: int64"
      ]
     },
     "execution_count": null,
     "metadata": {},
     "output_type": "execute_result"
    }
   ],
   "source": [
    "test_df.sample_name.value_counts()"
   ]
  },
  {
   "cell_type": "code",
   "execution_count": null,
   "metadata": {},
   "outputs": [
    {
     "data": {
      "text/plain": [
       "36"
      ]
     },
     "execution_count": null,
     "metadata": {},
     "output_type": "execute_result"
    }
   ],
   "source": [
    "# check if there are any sample names in the test set that are not in the train set\n",
    "len(set(test_df.sample_name.unique()) - set(train_df.sample_name.unique()))"
   ]
  },
  {
   "cell_type": "code",
   "execution_count": null,
   "metadata": {},
   "outputs": [
    {
     "data": {
      "text/plain": [
       "1570"
      ]
     },
     "execution_count": null,
     "metadata": {},
     "output_type": "execute_result"
    }
   ],
   "source": [
    "# check if there are any sample names in the train set that are not in the test set\n",
    "len(set(train_df.sample_name.unique()) - set(test_df.sample_name.unique()))"
   ]
  },
  {
   "cell_type": "code",
   "execution_count": null,
   "metadata": {},
   "outputs": [],
   "source": [
    "def process_df(df, sep_token):\n",
    "    df[\"input\"] = df.description\n",
    "    df.input = df.input.str.lower()\n",
    "    return df\n"
   ]
  },
  {
   "cell_type": "code",
   "execution_count": null,
   "metadata": {},
   "outputs": [],
   "source": [
    "train_df = process_df(train_df, sep_token='[SEP]')"
   ]
  },
  {
   "cell_type": "code",
   "execution_count": null,
   "metadata": {},
   "outputs": [
    {
     "data": {
      "text/html": [
       "<div>\n",
       "<style scoped>\n",
       "    .dataframe tbody tr th:only-of-type {\n",
       "        vertical-align: middle;\n",
       "    }\n",
       "\n",
       "    .dataframe tbody tr th {\n",
       "        vertical-align: top;\n",
       "    }\n",
       "\n",
       "    .dataframe thead th {\n",
       "        text-align: right;\n",
       "    }\n",
       "</style>\n",
       "<table border=\"1\" class=\"dataframe\">\n",
       "  <thead>\n",
       "    <tr style=\"text-align: right;\">\n",
       "      <th></th>\n",
       "      <th>description</th>\n",
       "      <th>medical_specialty</th>\n",
       "      <th>sample_name</th>\n",
       "      <th>transcription</th>\n",
       "      <th>input</th>\n",
       "    </tr>\n",
       "    <tr>\n",
       "      <th>Id</th>\n",
       "      <th></th>\n",
       "      <th></th>\n",
       "      <th></th>\n",
       "      <th></th>\n",
       "      <th></th>\n",
       "    </tr>\n",
       "  </thead>\n",
       "  <tbody>\n",
       "    <tr>\n",
       "      <th>1</th>\n",
       "      <td>Patient had a recurrent left arm pain after h...</td>\n",
       "      <td>Cardiovascular / Pulmonary</td>\n",
       "      <td>Angina - Consult</td>\n",
       "      <td>HISTORY OF PRESENT ILLNESS: , The patient is a...</td>\n",
       "      <td>patient had a recurrent left arm pain after h...</td>\n",
       "    </tr>\n",
       "    <tr>\n",
       "      <th>2</th>\n",
       "      <td>The patient is an 84-year-old female presente...</td>\n",
       "      <td>Cardiovascular / Pulmonary</td>\n",
       "      <td>Pericardial Effusion</td>\n",
       "      <td>REASON FOR CONSULTATION:,  Pericardial effusio...</td>\n",
       "      <td>the patient is an 84-year-old female presente...</td>\n",
       "    </tr>\n",
       "    <tr>\n",
       "      <th>3</th>\n",
       "      <td>Hand dermatitis.</td>\n",
       "      <td>Dermatology</td>\n",
       "      <td>Dermatitis - SOAP</td>\n",
       "      <td>SUBJECTIVE:,  This is a 29-year-old Vietnamese...</td>\n",
       "      <td>hand dermatitis.</td>\n",
       "    </tr>\n",
       "    <tr>\n",
       "      <th>4</th>\n",
       "      <td>Recurrent degenerative spondylolisthesis and ...</td>\n",
       "      <td>Surgery</td>\n",
       "      <td>Lumbar Re-exploration</td>\n",
       "      <td>PREOPERATIVE DIAGNOSIS: , Recurrent degenerati...</td>\n",
       "      <td>recurrent degenerative spondylolisthesis and ...</td>\n",
       "    </tr>\n",
       "    <tr>\n",
       "      <th>5</th>\n",
       "      <td>Chiropractic IME with old files review.  Deta...</td>\n",
       "      <td>IME-QME-Work Comp etc.</td>\n",
       "      <td>Chiropractic IME - 2</td>\n",
       "      <td>DATE OF INJURY : October 4, 2000,DATE OF EXAMI...</td>\n",
       "      <td>chiropractic ime with old files review.  deta...</td>\n",
       "    </tr>\n",
       "  </tbody>\n",
       "</table>\n",
       "</div>"
      ],
      "text/plain": [
       "                                          description   \n",
       "Id                                                      \n",
       "1    Patient had a recurrent left arm pain after h...  \\\n",
       "2    The patient is an 84-year-old female presente...   \n",
       "3                                    Hand dermatitis.   \n",
       "4    Recurrent degenerative spondylolisthesis and ...   \n",
       "5    Chiropractic IME with old files review.  Deta...   \n",
       "\n",
       "              medical_specialty              sample_name   \n",
       "Id                                                         \n",
       "1    Cardiovascular / Pulmonary        Angina - Consult   \\\n",
       "2    Cardiovascular / Pulmonary    Pericardial Effusion    \n",
       "3                   Dermatology       Dermatitis - SOAP    \n",
       "4                       Surgery   Lumbar Re-exploration    \n",
       "5        IME-QME-Work Comp etc.    Chiropractic IME - 2    \n",
       "\n",
       "                                        transcription   \n",
       "Id                                                      \n",
       "1   HISTORY OF PRESENT ILLNESS: , The patient is a...  \\\n",
       "2   REASON FOR CONSULTATION:,  Pericardial effusio...   \n",
       "3   SUBJECTIVE:,  This is a 29-year-old Vietnamese...   \n",
       "4   PREOPERATIVE DIAGNOSIS: , Recurrent degenerati...   \n",
       "5   DATE OF INJURY : October 4, 2000,DATE OF EXAMI...   \n",
       "\n",
       "                                                input  \n",
       "Id                                                     \n",
       "1    patient had a recurrent left arm pain after h...  \n",
       "2    the patient is an 84-year-old female presente...  \n",
       "3                                    hand dermatitis.  \n",
       "4    recurrent degenerative spondylolisthesis and ...  \n",
       "5    chiropractic ime with old files review.  deta...  "
      ]
     },
     "execution_count": null,
     "metadata": {},
     "output_type": "execute_result"
    }
   ],
   "source": [
    "train_df.head()"
   ]
  },
  {
   "cell_type": "code",
   "execution_count": null,
   "metadata": {},
   "outputs": [],
   "source": [
    "def create_val_split(df: pd.DataFrame, val_prop: float = 0.2, seed: int = 42):\n",
    "    sample_name = df.sample_name.unique()\n",
    "    np.random.seed(seed)\n",
    "    np.random.shuffle(sample_name)\n",
    "    val_sz = int(len(sample_name) * val_prop)\n",
    "    val_sample_name = sample_name[:val_sz]\n",
    "    is_val = np.isin(df.sample_name, val_sample_name)\n",
    "    idxs = np.arange(len(df))\n",
    "    val_idxs = idxs[is_val]\n",
    "    trn_idxs = idxs[~is_val]\n",
    "\n",
    "    return trn_idxs, val_idxs"
   ]
  },
  {
   "cell_type": "code",
   "execution_count": null,
   "metadata": {},
   "outputs": [],
   "source": [
    "trn_idxs, val_idxs = create_val_split(train_df)"
   ]
  },
  {
   "cell_type": "code",
   "execution_count": null,
   "metadata": {},
   "outputs": [
    {
     "data": {
      "text/plain": [
       "(2699, 685)"
      ]
     },
     "execution_count": null,
     "metadata": {},
     "output_type": "execute_result"
    }
   ],
   "source": [
    "len(trn_idxs), len(val_idxs)"
   ]
  },
  {
   "cell_type": "code",
   "execution_count": null,
   "metadata": {},
   "outputs": [],
   "source": [
    "# train_df['words_per_input'] = train_df.input.str.split().apply(len)\n",
    "# # train_df.boxplot(\"words_per_input\", by=\"medical_specialty\", grid=False, showfliers=False, color=\"black\")\n",
    "# # box plot of the 10 most common medical specialties\n",
    "# train_df[train_df.medical_specialty.isin(train_df.medical_specialty.value_counts().head(10).index)].boxplot(\n",
    "#     \"words_per_input\", by=\"medical_specialty\", grid=False, showfliers=False, color=\"black\", figsize=(20, 10));"
   ]
  },
  {
   "cell_type": "code",
   "execution_count": null,
   "metadata": {},
   "outputs": [],
   "source": [
    "checkpoint = \"microsoft/deberta-v3-small\""
   ]
  },
  {
   "cell_type": "code",
   "execution_count": null,
   "metadata": {},
   "outputs": [
    {
     "name": "stderr",
     "output_type": "stream",
     "text": [
      "Special tokens have been added in the vocabulary, make sure the associated word embeddings are fine-tuned or trained.\n",
      "/home/eleven/mambaforge/envs/nlpbook/lib/python3.10/site-packages/transformers/convert_slow_tokenizer.py:454: UserWarning: The sentencepiece tokenizer that you are converting to a fast tokenizer uses the byte fallback option which is not implemented in the fast tokenizers. In practice this means that the fast version of the tokenizer can produce unknown tokens whereas the sentencepiece version would have converted these unknown tokens into a sequence of byte tokens matching the original piece of text.\n",
      "  warnings.warn(\n",
      "Special tokens have been added in the vocabulary, make sure the associated word embeddings are fine-tuned or trained.\n"
     ]
    }
   ],
   "source": [
    "tokenizer = AutoTokenizer.from_pretrained(checkpoint)"
   ]
  },
  {
   "cell_type": "code",
   "execution_count": null,
   "metadata": {},
   "outputs": [],
   "source": [
    "def tokenize_func(batch, tokenizer):\n",
    "    return tokenizer(\n",
    "        batch[\"input\"],\n",
    "        padding=True,\n",
    "        truncation=True,\n",
    "        return_tensors=\"pt\",\n",
    "    )"
   ]
  },
  {
   "cell_type": "code",
   "execution_count": null,
   "metadata": {},
   "outputs": [
    {
     "data": {
      "text/plain": [
       "description           Patient had a recurrent left arm pain after h...\n",
       "medical_specialty                           Cardiovascular / Pulmonary\n",
       "sample_name                                          Angina - Consult \n",
       "transcription        HISTORY OF PRESENT ILLNESS: , The patient is a...\n",
       "Name: 1, dtype: object"
      ]
     },
     "execution_count": null,
     "metadata": {},
     "output_type": "execute_result"
    }
   ],
   "source": [
    "sample"
   ]
  },
  {
   "cell_type": "code",
   "execution_count": null,
   "metadata": {},
   "outputs": [
    {
     "data": {
      "text/plain": [
       "{'input_ids': [1, 14064, 330, 266, 23714, 595, 3123, 1427, 385, 342, 34636, 261, 475, 538, 824, 261, 263, 291, 29328, 385, 375, 96822, 119250, 260, 2], 'token_type_ids': [0, 0, 0, 0, 0, 0, 0, 0, 0, 0, 0, 0, 0, 0, 0, 0, 0, 0, 0, 0, 0, 0, 0, 0, 0], 'attention_mask': [1, 1, 1, 1, 1, 1, 1, 1, 1, 1, 1, 1, 1, 1, 1, 1, 1, 1, 1, 1, 1, 1, 1, 1, 1]}"
      ]
     },
     "execution_count": null,
     "metadata": {},
     "output_type": "execute_result"
    }
   ],
   "source": [
    "tokenizer(sample.description)"
   ]
  },
  {
   "cell_type": "code",
   "execution_count": null,
   "metadata": {},
   "outputs": [
    {
     "data": {
      "text/plain": [
       "['input_ids', 'token_type_ids', 'attention_mask']"
      ]
     },
     "execution_count": null,
     "metadata": {},
     "output_type": "execute_result"
    }
   ],
   "source": [
    "tokenizer.model_input_names"
   ]
  },
  {
   "cell_type": "code",
   "execution_count": null,
   "metadata": {},
   "outputs": [],
   "source": [
    "# create label to int dict\n",
    "label2int = {label: i for i, label in enumerate(train_df.medical_specialty.unique())}\n",
    "int2label = {v: k for k, v in label2int.items()}"
   ]
  },
  {
   "cell_type": "code",
   "execution_count": null,
   "metadata": {},
   "outputs": [
    {
     "data": {
      "text/plain": [
       "{' Cardiovascular / Pulmonary': 0,\n",
       " ' Dermatology': 1,\n",
       " ' Surgery': 2,\n",
       " ' IME-QME-Work Comp etc.': 3,\n",
       " ' General Medicine': 4,\n",
       " ' Orthopedic': 5,\n",
       " ' Gastroenterology': 6,\n",
       " ' Pain Management': 7,\n",
       " ' Consult - History and Phy.': 8,\n",
       " ' Radiology': 9,\n",
       " ' Hematology - Oncology': 10,\n",
       " ' Neurology': 11,\n",
       " ' Nephrology': 12,\n",
       " ' Podiatry': 13,\n",
       " ' Office Notes': 14,\n",
       " ' Rheumatology': 15,\n",
       " ' Neurosurgery': 16,\n",
       " ' Endocrinology': 17,\n",
       " ' Discharge Summary': 18,\n",
       " ' Bariatrics': 19,\n",
       " ' SOAP / Chart / Progress Notes': 20,\n",
       " ' ENT - Otolaryngology': 21,\n",
       " ' Ophthalmology': 22,\n",
       " ' Letters': 23,\n",
       " ' Cosmetic / Plastic Surgery': 24,\n",
       " ' Dentistry': 25,\n",
       " ' Physical Medicine - Rehab': 26,\n",
       " ' Psychiatry / Psychology': 27,\n",
       " ' Autopsy': 28,\n",
       " ' Sleep Medicine': 29,\n",
       " ' Speech - Language': 30,\n",
       " ' Allergy / Immunology': 31,\n",
       " ' Lab Medicine - Pathology': 32,\n",
       " ' Chiropractic': 33,\n",
       " ' SCARF type': 34}"
      ]
     },
     "execution_count": null,
     "metadata": {},
     "output_type": "execute_result"
    }
   ],
   "source": [
    "label2int"
   ]
  },
  {
   "cell_type": "code",
   "execution_count": null,
   "metadata": {},
   "outputs": [
    {
     "data": {
      "text/html": [
       "<div>\n",
       "<style scoped>\n",
       "    .dataframe tbody tr th:only-of-type {\n",
       "        vertical-align: middle;\n",
       "    }\n",
       "\n",
       "    .dataframe tbody tr th {\n",
       "        vertical-align: top;\n",
       "    }\n",
       "\n",
       "    .dataframe thead th {\n",
       "        text-align: right;\n",
       "    }\n",
       "</style>\n",
       "<table border=\"1\" class=\"dataframe\">\n",
       "  <thead>\n",
       "    <tr style=\"text-align: right;\">\n",
       "      <th></th>\n",
       "      <th>description</th>\n",
       "      <th>medical_specialty</th>\n",
       "      <th>sample_name</th>\n",
       "      <th>transcription</th>\n",
       "      <th>input</th>\n",
       "    </tr>\n",
       "    <tr>\n",
       "      <th>Id</th>\n",
       "      <th></th>\n",
       "      <th></th>\n",
       "      <th></th>\n",
       "      <th></th>\n",
       "      <th></th>\n",
       "    </tr>\n",
       "  </thead>\n",
       "  <tbody>\n",
       "    <tr>\n",
       "      <th>1</th>\n",
       "      <td>Patient had a recurrent left arm pain after h...</td>\n",
       "      <td>Cardiovascular / Pulmonary</td>\n",
       "      <td>Angina - Consult</td>\n",
       "      <td>HISTORY OF PRESENT ILLNESS: , The patient is a...</td>\n",
       "      <td>patient had a recurrent left arm pain after h...</td>\n",
       "    </tr>\n",
       "    <tr>\n",
       "      <th>2</th>\n",
       "      <td>The patient is an 84-year-old female presente...</td>\n",
       "      <td>Cardiovascular / Pulmonary</td>\n",
       "      <td>Pericardial Effusion</td>\n",
       "      <td>REASON FOR CONSULTATION:,  Pericardial effusio...</td>\n",
       "      <td>the patient is an 84-year-old female presente...</td>\n",
       "    </tr>\n",
       "    <tr>\n",
       "      <th>3</th>\n",
       "      <td>Hand dermatitis.</td>\n",
       "      <td>Dermatology</td>\n",
       "      <td>Dermatitis - SOAP</td>\n",
       "      <td>SUBJECTIVE:,  This is a 29-year-old Vietnamese...</td>\n",
       "      <td>hand dermatitis.</td>\n",
       "    </tr>\n",
       "    <tr>\n",
       "      <th>4</th>\n",
       "      <td>Recurrent degenerative spondylolisthesis and ...</td>\n",
       "      <td>Surgery</td>\n",
       "      <td>Lumbar Re-exploration</td>\n",
       "      <td>PREOPERATIVE DIAGNOSIS: , Recurrent degenerati...</td>\n",
       "      <td>recurrent degenerative spondylolisthesis and ...</td>\n",
       "    </tr>\n",
       "    <tr>\n",
       "      <th>5</th>\n",
       "      <td>Chiropractic IME with old files review.  Deta...</td>\n",
       "      <td>IME-QME-Work Comp etc.</td>\n",
       "      <td>Chiropractic IME - 2</td>\n",
       "      <td>DATE OF INJURY : October 4, 2000,DATE OF EXAMI...</td>\n",
       "      <td>chiropractic ime with old files review.  deta...</td>\n",
       "    </tr>\n",
       "    <tr>\n",
       "      <th>...</th>\n",
       "      <td>...</td>\n",
       "      <td>...</td>\n",
       "      <td>...</td>\n",
       "      <td>...</td>\n",
       "      <td>...</td>\n",
       "    </tr>\n",
       "    <tr>\n",
       "      <th>3380</th>\n",
       "      <td>Morbid obesity.  Laparoscopic Roux-en-Y gastr...</td>\n",
       "      <td>Surgery</td>\n",
       "      <td>Laparoscopic Gastric Bypass - 1</td>\n",
       "      <td>PREOPERATIVE DIAGNOSIS: , Morbid obesity. ,POS...</td>\n",
       "      <td>morbid obesity.  laparoscopic roux-en-y gastr...</td>\n",
       "    </tr>\n",
       "    <tr>\n",
       "      <th>3381</th>\n",
       "      <td>Lateral and plantar condylectomy, fifth left ...</td>\n",
       "      <td>Surgery</td>\n",
       "      <td>Condylectomy</td>\n",
       "      <td>TITLE OF OPERATION:,  Lateral and plantar cond...</td>\n",
       "      <td>lateral and plantar condylectomy, fifth left ...</td>\n",
       "    </tr>\n",
       "    <tr>\n",
       "      <th>3382</th>\n",
       "      <td>Right heart and left heart catheterization by...</td>\n",
       "      <td>Surgery</td>\n",
       "      <td>Cardiac Catheterization - 6</td>\n",
       "      <td>PRECATHETERIZATION DIAGNOSIS (ES):, Hypoplasti...</td>\n",
       "      <td>right heart and left heart catheterization by...</td>\n",
       "    </tr>\n",
       "    <tr>\n",
       "      <th>3383</th>\n",
       "      <td>Left axillary lymph node excisional biopsy.  ...</td>\n",
       "      <td>Surgery</td>\n",
       "      <td>Lymph Node Excisional Biopsy</td>\n",
       "      <td>PREOPERATIVE DIAGNOSIS: , Left axillary adenop...</td>\n",
       "      <td>left axillary lymph node excisional biopsy.  ...</td>\n",
       "    </tr>\n",
       "    <tr>\n",
       "      <th>3384</th>\n",
       "      <td>Aspiration pneumonia and chronic obstructive ...</td>\n",
       "      <td>Discharge Summary</td>\n",
       "      <td>Pneumonia &amp; COPD - Discharge Summary</td>\n",
       "      <td>ADMISSION DIAGNOSES:,1.  Pneumonia, likely sec...</td>\n",
       "      <td>aspiration pneumonia and chronic obstructive ...</td>\n",
       "    </tr>\n",
       "  </tbody>\n",
       "</table>\n",
       "<p>3384 rows × 5 columns</p>\n",
       "</div>"
      ],
      "text/plain": [
       "                                            description   \n",
       "Id                                                        \n",
       "1      Patient had a recurrent left arm pain after h...  \\\n",
       "2      The patient is an 84-year-old female presente...   \n",
       "3                                      Hand dermatitis.   \n",
       "4      Recurrent degenerative spondylolisthesis and ...   \n",
       "5      Chiropractic IME with old files review.  Deta...   \n",
       "...                                                 ...   \n",
       "3380   Morbid obesity.  Laparoscopic Roux-en-Y gastr...   \n",
       "3381   Lateral and plantar condylectomy, fifth left ...   \n",
       "3382   Right heart and left heart catheterization by...   \n",
       "3383   Left axillary lymph node excisional biopsy.  ...   \n",
       "3384   Aspiration pneumonia and chronic obstructive ...   \n",
       "\n",
       "                medical_specialty                             sample_name   \n",
       "Id                                                                          \n",
       "1      Cardiovascular / Pulmonary                       Angina - Consult   \\\n",
       "2      Cardiovascular / Pulmonary                   Pericardial Effusion    \n",
       "3                     Dermatology                      Dermatitis - SOAP    \n",
       "4                         Surgery                  Lumbar Re-exploration    \n",
       "5          IME-QME-Work Comp etc.                   Chiropractic IME - 2    \n",
       "...                           ...                                     ...   \n",
       "3380                      Surgery        Laparoscopic Gastric Bypass - 1    \n",
       "3381                      Surgery                           Condylectomy    \n",
       "3382                      Surgery            Cardiac Catheterization - 6    \n",
       "3383                      Surgery           Lymph Node Excisional Biopsy    \n",
       "3384            Discharge Summary   Pneumonia & COPD - Discharge Summary    \n",
       "\n",
       "                                          transcription   \n",
       "Id                                                        \n",
       "1     HISTORY OF PRESENT ILLNESS: , The patient is a...  \\\n",
       "2     REASON FOR CONSULTATION:,  Pericardial effusio...   \n",
       "3     SUBJECTIVE:,  This is a 29-year-old Vietnamese...   \n",
       "4     PREOPERATIVE DIAGNOSIS: , Recurrent degenerati...   \n",
       "5     DATE OF INJURY : October 4, 2000,DATE OF EXAMI...   \n",
       "...                                                 ...   \n",
       "3380  PREOPERATIVE DIAGNOSIS: , Morbid obesity. ,POS...   \n",
       "3381  TITLE OF OPERATION:,  Lateral and plantar cond...   \n",
       "3382  PRECATHETERIZATION DIAGNOSIS (ES):, Hypoplasti...   \n",
       "3383  PREOPERATIVE DIAGNOSIS: , Left axillary adenop...   \n",
       "3384  ADMISSION DIAGNOSES:,1.  Pneumonia, likely sec...   \n",
       "\n",
       "                                                  input  \n",
       "Id                                                       \n",
       "1      patient had a recurrent left arm pain after h...  \n",
       "2      the patient is an 84-year-old female presente...  \n",
       "3                                      hand dermatitis.  \n",
       "4      recurrent degenerative spondylolisthesis and ...  \n",
       "5      chiropractic ime with old files review.  deta...  \n",
       "...                                                 ...  \n",
       "3380   morbid obesity.  laparoscopic roux-en-y gastr...  \n",
       "3381   lateral and plantar condylectomy, fifth left ...  \n",
       "3382   right heart and left heart catheterization by...  \n",
       "3383   left axillary lymph node excisional biopsy.  ...  \n",
       "3384   aspiration pneumonia and chronic obstructive ...  \n",
       "\n",
       "[3384 rows x 5 columns]"
      ]
     },
     "execution_count": null,
     "metadata": {},
     "output_type": "execute_result"
    }
   ],
   "source": [
    "train_df"
   ]
  },
  {
   "cell_type": "code",
   "execution_count": null,
   "metadata": {},
   "outputs": [],
   "source": [
    "# create target column to replace medical_specialty\n",
    "train_df['labels'] = train_df.medical_specialty.map(label2int)"
   ]
  },
  {
   "cell_type": "code",
   "execution_count": null,
   "metadata": {},
   "outputs": [
    {
     "data": {
      "text/html": [
       "<div>\n",
       "<style scoped>\n",
       "    .dataframe tbody tr th:only-of-type {\n",
       "        vertical-align: middle;\n",
       "    }\n",
       "\n",
       "    .dataframe tbody tr th {\n",
       "        vertical-align: top;\n",
       "    }\n",
       "\n",
       "    .dataframe thead th {\n",
       "        text-align: right;\n",
       "    }\n",
       "</style>\n",
       "<table border=\"1\" class=\"dataframe\">\n",
       "  <thead>\n",
       "    <tr style=\"text-align: right;\">\n",
       "      <th></th>\n",
       "      <th>description</th>\n",
       "      <th>medical_specialty</th>\n",
       "      <th>sample_name</th>\n",
       "      <th>transcription</th>\n",
       "      <th>input</th>\n",
       "      <th>labels</th>\n",
       "    </tr>\n",
       "    <tr>\n",
       "      <th>Id</th>\n",
       "      <th></th>\n",
       "      <th></th>\n",
       "      <th></th>\n",
       "      <th></th>\n",
       "      <th></th>\n",
       "      <th></th>\n",
       "    </tr>\n",
       "  </thead>\n",
       "  <tbody>\n",
       "    <tr>\n",
       "      <th>1</th>\n",
       "      <td>Patient had a recurrent left arm pain after h...</td>\n",
       "      <td>Cardiovascular / Pulmonary</td>\n",
       "      <td>Angina - Consult</td>\n",
       "      <td>HISTORY OF PRESENT ILLNESS: , The patient is a...</td>\n",
       "      <td>patient had a recurrent left arm pain after h...</td>\n",
       "      <td>0</td>\n",
       "    </tr>\n",
       "    <tr>\n",
       "      <th>2</th>\n",
       "      <td>The patient is an 84-year-old female presente...</td>\n",
       "      <td>Cardiovascular / Pulmonary</td>\n",
       "      <td>Pericardial Effusion</td>\n",
       "      <td>REASON FOR CONSULTATION:,  Pericardial effusio...</td>\n",
       "      <td>the patient is an 84-year-old female presente...</td>\n",
       "      <td>0</td>\n",
       "    </tr>\n",
       "    <tr>\n",
       "      <th>3</th>\n",
       "      <td>Hand dermatitis.</td>\n",
       "      <td>Dermatology</td>\n",
       "      <td>Dermatitis - SOAP</td>\n",
       "      <td>SUBJECTIVE:,  This is a 29-year-old Vietnamese...</td>\n",
       "      <td>hand dermatitis.</td>\n",
       "      <td>1</td>\n",
       "    </tr>\n",
       "    <tr>\n",
       "      <th>4</th>\n",
       "      <td>Recurrent degenerative spondylolisthesis and ...</td>\n",
       "      <td>Surgery</td>\n",
       "      <td>Lumbar Re-exploration</td>\n",
       "      <td>PREOPERATIVE DIAGNOSIS: , Recurrent degenerati...</td>\n",
       "      <td>recurrent degenerative spondylolisthesis and ...</td>\n",
       "      <td>2</td>\n",
       "    </tr>\n",
       "    <tr>\n",
       "      <th>5</th>\n",
       "      <td>Chiropractic IME with old files review.  Deta...</td>\n",
       "      <td>IME-QME-Work Comp etc.</td>\n",
       "      <td>Chiropractic IME - 2</td>\n",
       "      <td>DATE OF INJURY : October 4, 2000,DATE OF EXAMI...</td>\n",
       "      <td>chiropractic ime with old files review.  deta...</td>\n",
       "      <td>3</td>\n",
       "    </tr>\n",
       "    <tr>\n",
       "      <th>...</th>\n",
       "      <td>...</td>\n",
       "      <td>...</td>\n",
       "      <td>...</td>\n",
       "      <td>...</td>\n",
       "      <td>...</td>\n",
       "      <td>...</td>\n",
       "    </tr>\n",
       "    <tr>\n",
       "      <th>3380</th>\n",
       "      <td>Morbid obesity.  Laparoscopic Roux-en-Y gastr...</td>\n",
       "      <td>Surgery</td>\n",
       "      <td>Laparoscopic Gastric Bypass - 1</td>\n",
       "      <td>PREOPERATIVE DIAGNOSIS: , Morbid obesity. ,POS...</td>\n",
       "      <td>morbid obesity.  laparoscopic roux-en-y gastr...</td>\n",
       "      <td>2</td>\n",
       "    </tr>\n",
       "    <tr>\n",
       "      <th>3381</th>\n",
       "      <td>Lateral and plantar condylectomy, fifth left ...</td>\n",
       "      <td>Surgery</td>\n",
       "      <td>Condylectomy</td>\n",
       "      <td>TITLE OF OPERATION:,  Lateral and plantar cond...</td>\n",
       "      <td>lateral and plantar condylectomy, fifth left ...</td>\n",
       "      <td>2</td>\n",
       "    </tr>\n",
       "    <tr>\n",
       "      <th>3382</th>\n",
       "      <td>Right heart and left heart catheterization by...</td>\n",
       "      <td>Surgery</td>\n",
       "      <td>Cardiac Catheterization - 6</td>\n",
       "      <td>PRECATHETERIZATION DIAGNOSIS (ES):, Hypoplasti...</td>\n",
       "      <td>right heart and left heart catheterization by...</td>\n",
       "      <td>2</td>\n",
       "    </tr>\n",
       "    <tr>\n",
       "      <th>3383</th>\n",
       "      <td>Left axillary lymph node excisional biopsy.  ...</td>\n",
       "      <td>Surgery</td>\n",
       "      <td>Lymph Node Excisional Biopsy</td>\n",
       "      <td>PREOPERATIVE DIAGNOSIS: , Left axillary adenop...</td>\n",
       "      <td>left axillary lymph node excisional biopsy.  ...</td>\n",
       "      <td>2</td>\n",
       "    </tr>\n",
       "    <tr>\n",
       "      <th>3384</th>\n",
       "      <td>Aspiration pneumonia and chronic obstructive ...</td>\n",
       "      <td>Discharge Summary</td>\n",
       "      <td>Pneumonia &amp; COPD - Discharge Summary</td>\n",
       "      <td>ADMISSION DIAGNOSES:,1.  Pneumonia, likely sec...</td>\n",
       "      <td>aspiration pneumonia and chronic obstructive ...</td>\n",
       "      <td>18</td>\n",
       "    </tr>\n",
       "  </tbody>\n",
       "</table>\n",
       "<p>3384 rows × 6 columns</p>\n",
       "</div>"
      ],
      "text/plain": [
       "                                            description   \n",
       "Id                                                        \n",
       "1      Patient had a recurrent left arm pain after h...  \\\n",
       "2      The patient is an 84-year-old female presente...   \n",
       "3                                      Hand dermatitis.   \n",
       "4      Recurrent degenerative spondylolisthesis and ...   \n",
       "5      Chiropractic IME with old files review.  Deta...   \n",
       "...                                                 ...   \n",
       "3380   Morbid obesity.  Laparoscopic Roux-en-Y gastr...   \n",
       "3381   Lateral and plantar condylectomy, fifth left ...   \n",
       "3382   Right heart and left heart catheterization by...   \n",
       "3383   Left axillary lymph node excisional biopsy.  ...   \n",
       "3384   Aspiration pneumonia and chronic obstructive ...   \n",
       "\n",
       "                medical_specialty                             sample_name   \n",
       "Id                                                                          \n",
       "1      Cardiovascular / Pulmonary                       Angina - Consult   \\\n",
       "2      Cardiovascular / Pulmonary                   Pericardial Effusion    \n",
       "3                     Dermatology                      Dermatitis - SOAP    \n",
       "4                         Surgery                  Lumbar Re-exploration    \n",
       "5          IME-QME-Work Comp etc.                   Chiropractic IME - 2    \n",
       "...                           ...                                     ...   \n",
       "3380                      Surgery        Laparoscopic Gastric Bypass - 1    \n",
       "3381                      Surgery                           Condylectomy    \n",
       "3382                      Surgery            Cardiac Catheterization - 6    \n",
       "3383                      Surgery           Lymph Node Excisional Biopsy    \n",
       "3384            Discharge Summary   Pneumonia & COPD - Discharge Summary    \n",
       "\n",
       "                                          transcription   \n",
       "Id                                                        \n",
       "1     HISTORY OF PRESENT ILLNESS: , The patient is a...  \\\n",
       "2     REASON FOR CONSULTATION:,  Pericardial effusio...   \n",
       "3     SUBJECTIVE:,  This is a 29-year-old Vietnamese...   \n",
       "4     PREOPERATIVE DIAGNOSIS: , Recurrent degenerati...   \n",
       "5     DATE OF INJURY : October 4, 2000,DATE OF EXAMI...   \n",
       "...                                                 ...   \n",
       "3380  PREOPERATIVE DIAGNOSIS: , Morbid obesity. ,POS...   \n",
       "3381  TITLE OF OPERATION:,  Lateral and plantar cond...   \n",
       "3382  PRECATHETERIZATION DIAGNOSIS (ES):, Hypoplasti...   \n",
       "3383  PREOPERATIVE DIAGNOSIS: , Left axillary adenop...   \n",
       "3384  ADMISSION DIAGNOSES:,1.  Pneumonia, likely sec...   \n",
       "\n",
       "                                                  input  labels  \n",
       "Id                                                               \n",
       "1      patient had a recurrent left arm pain after h...       0  \n",
       "2      the patient is an 84-year-old female presente...       0  \n",
       "3                                      hand dermatitis.       1  \n",
       "4      recurrent degenerative spondylolisthesis and ...       2  \n",
       "5      chiropractic ime with old files review.  deta...       3  \n",
       "...                                                 ...     ...  \n",
       "3380   morbid obesity.  laparoscopic roux-en-y gastr...       2  \n",
       "3381   lateral and plantar condylectomy, fifth left ...       2  \n",
       "3382   right heart and left heart catheterization by...       2  \n",
       "3383   left axillary lymph node excisional biopsy.  ...       2  \n",
       "3384   aspiration pneumonia and chronic obstructive ...      18  \n",
       "\n",
       "[3384 rows x 6 columns]"
      ]
     },
     "execution_count": null,
     "metadata": {},
     "output_type": "execute_result"
    }
   ],
   "source": [
    "train_df"
   ]
  },
  {
   "cell_type": "code",
   "execution_count": null,
   "metadata": {},
   "outputs": [],
   "source": [
    "def tokenize_and_split(df, tokenize_func, train=True):\n",
    "    remove_columns = [\"sample_name\", \"input\", \"transcription\"]\n",
    "    dataset = datasets.Dataset.from_pandas(df)\n",
    "    tok_dataset = dataset.map(\n",
    "        tokenize_func,\n",
    "        batched=True,\n",
    "        batch_size=None,\n",
    "        remove_columns=remove_columns\n",
    "    )\n",
    "    if train:\n",
    "        # remove_columns.append(\"medical_specialty\")\n",
    "        trn_idxs, val_idxs = create_val_split(df)\n",
    "        tok_dataset = datasets.DatasetDict(\n",
    "        {\"train\": tok_dataset.select(trn_idxs), \"test\": tok_dataset.select(val_idxs)}\n",
    "    )\n",
    "    \n",
    "    return tok_dataset"
   ]
  },
  {
   "cell_type": "code",
   "execution_count": null,
   "metadata": {},
   "outputs": [],
   "source": [
    "def create_dataloaders(tok_ds, bs, train=True):\n",
    "    if train:\n",
    "        train_dl = DataLoader(\n",
    "            tok_ds[\"train\"],\n",
    "            batch_size=bs,\n",
    "            shuffle=True,\n",
    "            collate_fn=default_data_collator,\n",
    "            drop_last=True\n",
    "        )\n",
    "        val_dl = DataLoader(\n",
    "            tok_ds[\"test\"],\n",
    "            batch_size=bs,\n",
    "            shuffle=False,\n",
    "            collate_fn=default_data_collator,\n",
    "            drop_last=False\n",
    "        )\n",
    "\n",
    "        return train_dl, val_dl\n",
    "    else:\n",
    "        test_dl = DataLoader(\n",
    "            tok_ds,\n",
    "            batch_size=bs,\n",
    "            shuffle=False,\n",
    "            collate_fn=default_data_collator,\n",
    "        )\n",
    "\n",
    "        return test_dl"
   ]
  },
  {
   "cell_type": "code",
   "execution_count": null,
   "metadata": {},
   "outputs": [],
   "source": [
    "def prepare_data(df, tokenizer, sep_token, bs, training=True):\n",
    "    if training:\n",
    "        train_df = process_df(df, sep_token)\n",
    "        tokenize = partial(tokenize_func, tokenizer=tokenizer)\n",
    "        train_tok_ds = tokenize_and_split(train_df, tokenize)\n",
    "        train_dl, val_dl = create_dataloaders(train_tok_ds, bs)\n",
    "        \n",
    "        return train_dl, val_dl\n",
    "    else:\n",
    "        test_df = process_df(df, sep_token)\n",
    "        tokenize = partial(tokenize_func, tokenizer=tokenizer)\n",
    "        test_tok_ds = tokenize_and_split(test_df, tokenize, train=False)\n",
    "        test_dl = create_dataloaders(test_tok_ds, bs, train=False)\n",
    "        \n",
    "        return test_dl"
   ]
  },
  {
   "cell_type": "code",
   "execution_count": null,
   "metadata": {},
   "outputs": [],
   "source": [
    "def prepare_optimizer_and_scheduler(model, lr, wd, epochs, train_dl):\n",
    "    optimizer = AdamW(\n",
    "        params=model.parameters(),\n",
    "        lr=lr,\n",
    "        betas=(0.9, 0.98),\n",
    "        eps=1e-6,\n",
    "        weight_decay=wd,\n",
    "    )\n",
    "    scheduler = OneCycleLR(\n",
    "        optimizer,\n",
    "        max_lr=lr,\n",
    "        steps_per_epoch=len(train_dl),\n",
    "        epochs=epochs,\n",
    "    )\n",
    "    \n",
    "    return optimizer, scheduler"
   ]
  },
  {
   "cell_type": "code",
   "execution_count": null,
   "metadata": {},
   "outputs": [],
   "source": [
    "def prepare_model(checkpoint, tokenizer, num_labels):\n",
    "    f1_score = F1Score(task='multiclass', num_classes=num_labels)\n",
    "    model = AutoModelForSequenceClassification.from_pretrained(\n",
    "        checkpoint,\n",
    "        num_labels=num_labels,\n",
    "    )\n",
    "    hf_model = HuggingFaceModel(\n",
    "        model,\n",
    "        tokenizer=tokenizer,\n",
    "        metrics=[CrossEntropy(), f1_score],\n",
    "        use_logits=True\n",
    "    )\n",
    "    \n",
    "    return hf_model"
   ]
  },
  {
   "cell_type": "code",
   "execution_count": null,
   "metadata": {},
   "outputs": [],
   "source": [
    "def prepare_trainer(composer_model, \n",
    "                    optimizer, \n",
    "                    scheduler, \n",
    "                    train_dl, \n",
    "                    val_dl, \n",
    "                    epochs, \n",
    "                    run_name):\n",
    "    trainer = Trainer(\n",
    "        model=composer_model,\n",
    "        train_dataloader=train_dl,\n",
    "        eval_dataloader=val_dl,\n",
    "        max_duration=f\"{epochs}ep\",\n",
    "        optimizers=optimizer,\n",
    "        schedulers=[scheduler],\n",
    "        loggers=[WandBLogger(project=\"medical-specialty-classification\")],\n",
    "        run_name=run_name,\n",
    "        device=\"gpu\",\n",
    "        precision=\"amp_fp16\",\n",
    "        step_schedulers_every_batch=True,\n",
    "        # seed=17,\n",
    "    )\n",
    "    \n",
    "    return trainer\n",
    "\n",
    "def fit(train_df,\n",
    "        checkpoint,\n",
    "        run_name, \n",
    "        bs=32, \n",
    "        lr=2e-5, \n",
    "        wd=0.01, \n",
    "        epochs=4, \n",
    "        num_labels=len(label2int), \n",
    "        sep_token=\"[SEP]\"):\n",
    "    # preparing data\n",
    "    tokenizer = AutoTokenizer.from_pretrained(checkpoint)\n",
    "    train_dl, val_dl = prepare_data(train_df, tokenizer, sep_token, bs)\n",
    "    model = prepare_model(checkpoint, tokenizer, num_labels)\n",
    "    \n",
    "    \n",
    "    # preparing optimizer and scheduler\n",
    "    optimizer, scheduler = prepare_optimizer_and_scheduler(model, \n",
    "                                                           lr, \n",
    "                                                           wd, \n",
    "                                                           epochs, \n",
    "                                                           train_dl)\n",
    "                                                           \n",
    "    \n",
    "    # preparing trainer\n",
    "    trainer = prepare_trainer(model, \n",
    "                              optimizer, \n",
    "                              scheduler, \n",
    "                              train_dl, \n",
    "                              val_dl, \n",
    "                              epochs, \n",
    "                              run_name)\n",
    "    \n",
    "    # training\n",
    "    trainer.fit()\n",
    "    \n",
    "    return trainer\n",
    "\n",
    "def predict(trainer, test_dl):\n",
    "    preds = trainer.predict(test_dl)[0][\"logits\"].numpy().astype(float)\n",
    "    preds = np.clip(preds, 0, 1)\n",
    "    preds = preds.round(2)\n",
    "    preds = preds.squeeze()\n",
    "\n",
    "    return preds"
   ]
  },
  {
   "cell_type": "code",
   "execution_count": null,
   "metadata": {},
   "outputs": [
    {
     "data": {
      "text/plain": [
       "0.00016"
      ]
     },
     "execution_count": null,
     "metadata": {},
     "output_type": "execute_result"
    }
   ],
   "source": [
    "8e-5 * 2"
   ]
  },
  {
   "cell_type": "code",
   "execution_count": null,
   "metadata": {},
   "outputs": [
    {
     "name": "stderr",
     "output_type": "stream",
     "text": [
      "Special tokens have been added in the vocabulary, make sure the associated word embeddings are fine-tuned or trained.\n",
      "/home/eleven/mambaforge/envs/nlpbook/lib/python3.10/site-packages/transformers/convert_slow_tokenizer.py:454: UserWarning: The sentencepiece tokenizer that you are converting to a fast tokenizer uses the byte fallback option which is not implemented in the fast tokenizers. In practice this means that the fast version of the tokenizer can produce unknown tokens whereas the sentencepiece version would have converted these unknown tokens into a sequence of byte tokens matching the original piece of text.\n",
      "  warnings.warn(\n",
      "Special tokens have been added in the vocabulary, make sure the associated word embeddings are fine-tuned or trained.\n"
     ]
    },
    {
     "data": {
      "application/vnd.jupyter.widget-view+json": {
       "model_id": "5d8049527d2a401db9de685ccb2a8fbd",
       "version_major": 2,
       "version_minor": 0
      },
      "text/plain": [
       "Map:   0%|          | 0/3384 [00:00<?, ? examples/s]"
      ]
     },
     "metadata": {},
     "output_type": "display_data"
    },
    {
     "name": "stderr",
     "output_type": "stream",
     "text": [
      "Asking to truncate to max_length but no maximum length is provided and the model has no predefined maximum length. Default to no truncation.\n",
      "Some weights of the model checkpoint at microsoft/deberta-v3-small were not used when initializing DebertaV2ForSequenceClassification: ['lm_predictions.lm_head.bias', 'mask_predictions.LayerNorm.bias', 'lm_predictions.lm_head.LayerNorm.weight', 'mask_predictions.classifier.bias', 'lm_predictions.lm_head.LayerNorm.bias', 'mask_predictions.dense.weight', 'mask_predictions.dense.bias', 'lm_predictions.lm_head.dense.weight', 'mask_predictions.classifier.weight', 'lm_predictions.lm_head.dense.bias', 'mask_predictions.LayerNorm.weight']\n",
      "- This IS expected if you are initializing DebertaV2ForSequenceClassification from the checkpoint of a model trained on another task or with another architecture (e.g. initializing a BertForSequenceClassification model from a BertForPreTraining model).\n",
      "- This IS NOT expected if you are initializing DebertaV2ForSequenceClassification from the checkpoint of a model that you expect to be exactly identical (initializing a BertForSequenceClassification model from a BertForSequenceClassification model).\n",
      "Some weights of DebertaV2ForSequenceClassification were not initialized from the model checkpoint at microsoft/deberta-v3-small and are newly initialized: ['pooler.dense.bias', 'classifier.weight', 'pooler.dense.weight', 'classifier.bias']\n",
      "You should probably TRAIN this model on a down-stream task to be able to use it for predictions and inference.\n",
      "Failed to detect the name of this notebook, you can set it manually with the WANDB_NOTEBOOK_NAME environment variable to enable code saving.\n",
      "\u001b[34m\u001b[1mwandb\u001b[0m: Currently logged in as: \u001b[33mjimmiemunyi\u001b[0m. Use \u001b[1m`wandb login --relogin`\u001b[0m to force relogin\n"
     ]
    },
    {
     "data": {
      "text/html": [
       "wandb version 0.15.5 is available!  To upgrade, please run:\n",
       " $ pip install wandb --upgrade"
      ],
      "text/plain": [
       "<IPython.core.display.HTML object>"
      ]
     },
     "metadata": {},
     "output_type": "display_data"
    },
    {
     "data": {
      "text/html": [
       "Tracking run with wandb version 0.15.4"
      ],
      "text/plain": [
       "<IPython.core.display.HTML object>"
      ]
     },
     "metadata": {},
     "output_type": "display_data"
    },
    {
     "data": {
      "text/html": [
       "Run data is saved locally in <code>/home/eleven/code/personal/medical-specialty-classification/nbs/wandb/run-20230711_140213-mupgw9qa</code>"
      ],
      "text/plain": [
       "<IPython.core.display.HTML object>"
      ]
     },
     "metadata": {},
     "output_type": "display_data"
    },
    {
     "data": {
      "text/html": [
       "Syncing run <strong><a href='https://wandb.ai/jimmiemunyi/medical-specialty-classification/runs/mupgw9qa' target=\"_blank\">test</a></strong> to <a href='https://wandb.ai/jimmiemunyi/medical-specialty-classification' target=\"_blank\">Weights & Biases</a> (<a href='https://wandb.me/run' target=\"_blank\">docs</a>)<br/>"
      ],
      "text/plain": [
       "<IPython.core.display.HTML object>"
      ]
     },
     "metadata": {},
     "output_type": "display_data"
    },
    {
     "data": {
      "text/html": [
       " View project at <a href='https://wandb.ai/jimmiemunyi/medical-specialty-classification' target=\"_blank\">https://wandb.ai/jimmiemunyi/medical-specialty-classification</a>"
      ],
      "text/plain": [
       "<IPython.core.display.HTML object>"
      ]
     },
     "metadata": {},
     "output_type": "display_data"
    },
    {
     "data": {
      "text/html": [
       " View run at <a href='https://wandb.ai/jimmiemunyi/medical-specialty-classification/runs/mupgw9qa' target=\"_blank\">https://wandb.ai/jimmiemunyi/medical-specialty-classification/runs/mupgw9qa</a>"
      ],
      "text/plain": [
       "<IPython.core.display.HTML object>"
      ]
     },
     "metadata": {},
     "output_type": "display_data"
    },
    {
     "name": "stderr",
     "output_type": "stream",
     "text": [
      "******************************\n",
      "Config:\n",
      "node_name: ubuntu_desktop\n",
      "num_gpus_per_node: 1\n",
      "num_nodes: 1\n",
      "rank_zero_seed: 105132114\n",
      "\n",
      "******************************\n"
     ]
    },
    {
     "data": {
      "application/vnd.jupyter.widget-view+json": {
       "model_id": "42b28d89001b4c1982218a5794e677da",
       "version_major": 2,
       "version_minor": 0
      },
      "text/plain": [
       "train          Epoch   0:    0%|| 0/21 [00:00<?, ?ba/s]         "
      ]
     },
     "metadata": {},
     "output_type": "display_data"
    },
    {
     "data": {
      "application/vnd.jupyter.widget-view+json": {
       "model_id": "9b7d340201644056aaad22b4b0ec0333",
       "version_major": 2,
       "version_minor": 0
      },
      "text/plain": [
       "eval           Epoch   0:    0%|| 0/6 [00:00<?, ?ba/s]         "
      ]
     },
     "metadata": {},
     "output_type": "display_data"
    },
    {
     "name": "stderr",
     "output_type": "stream",
     "text": [
      "/home/eleven/mambaforge/envs/nlpbook/lib/python3.10/site-packages/composer/core/data_spec.py:35: UserWarning: Cannot split tensor of length 45 into batches of size 128. As it is smaller, no splitting will be done. This may happen on the last batch of a dataset if it is a smaller size than the microbatch size.\n",
      "  warnings.warn(f'Cannot split tensor of length {len(t)} into batches of size {microbatch_size}. '\n"
     ]
    },
    {
     "data": {
      "application/vnd.jupyter.widget-view+json": {
       "model_id": "8fbbad6acc654952b4a67d1b00ce3e76",
       "version_major": 2,
       "version_minor": 0
      },
      "text/plain": [
       "train          Epoch   1:    0%|| 0/21 [00:00<?, ?ba/s]         "
      ]
     },
     "metadata": {},
     "output_type": "display_data"
    },
    {
     "data": {
      "application/vnd.jupyter.widget-view+json": {
       "model_id": "757bdfb05c9c4555ba56fca4e3e471b1",
       "version_major": 2,
       "version_minor": 0
      },
      "text/plain": [
       "eval           Epoch   1:    0%|| 0/6 [00:00<?, ?ba/s]         "
      ]
     },
     "metadata": {},
     "output_type": "display_data"
    },
    {
     "data": {
      "application/vnd.jupyter.widget-view+json": {
       "model_id": "78077a9501e5499bb3bfdda13a7609e8",
       "version_major": 2,
       "version_minor": 0
      },
      "text/plain": [
       "train          Epoch   2:    0%|| 0/21 [00:00<?, ?ba/s]         "
      ]
     },
     "metadata": {},
     "output_type": "display_data"
    },
    {
     "data": {
      "application/vnd.jupyter.widget-view+json": {
       "model_id": "9ed813ed14684ad6977aa98015dde119",
       "version_major": 2,
       "version_minor": 0
      },
      "text/plain": [
       "eval           Epoch   2:    0%|| 0/6 [00:00<?, ?ba/s]         "
      ]
     },
     "metadata": {},
     "output_type": "display_data"
    },
    {
     "data": {
      "application/vnd.jupyter.widget-view+json": {
       "model_id": "648b298c57a74d149bbf749b47a78407",
       "version_major": 2,
       "version_minor": 0
      },
      "text/plain": [
       "train          Epoch   3:    0%|| 0/21 [00:00<?, ?ba/s]         "
      ]
     },
     "metadata": {},
     "output_type": "display_data"
    },
    {
     "data": {
      "application/vnd.jupyter.widget-view+json": {
       "model_id": "5c4cd0603f1d4b209321d07d8c57b99b",
       "version_major": 2,
       "version_minor": 0
      },
      "text/plain": [
       "eval           Epoch   3:    0%|| 0/6 [00:00<?, ?ba/s]         "
      ]
     },
     "metadata": {},
     "output_type": "display_data"
    },
    {
     "name": "stdout",
     "output_type": "stream",
     "text": [
      "{'CrossEntropy': tensor(2.5141, device='cuda:0'), 'MulticlassF1Score': tensor(0.3299, device='cuda:0')}\n"
     ]
    }
   ],
   "source": [
    "bs, lr, wd, epochs = 128, 8e-5, 0.01, 4\n",
    "num_labels = len(label2int)\n",
    "checkpoint = \"microsoft/deberta-v3-small\"\n",
    "run_name = \"test\"\n",
    "\n",
    "trainer = fit(train_df, \n",
    "              checkpoint, \n",
    "              run_name=run_name, \n",
    "              bs=bs, \n",
    "              lr=lr, \n",
    "              wd=wd, \n",
    "              epochs=epochs,\n",
    "              num_labels=num_labels,\n",
    "              sep_token=\"[SEP]\")\n",
    "print(trainer.state.eval_metric_values)\n",
    "\n",
    "# trainer.close()"
   ]
  },
  {
   "cell_type": "code",
   "execution_count": null,
   "metadata": {},
   "outputs": [
    {
     "data": {
      "application/vnd.jupyter.widget-view+json": {
       "model_id": "6a94bdcc323a49a69fd97edcc1e92c9f",
       "version_major": 2,
       "version_minor": 0
      },
      "text/plain": [
       "Map:   0%|          | 0/312 [00:00<?, ? examples/s]"
      ]
     },
     "metadata": {},
     "output_type": "display_data"
    },
    {
     "name": "stderr",
     "output_type": "stream",
     "text": [
      "Asking to truncate to max_length but no maximum length is provided and the model has no predefined maximum length. Default to no truncation.\n"
     ]
    }
   ],
   "source": [
    "test_dl = prepare_data(test_df, tokenizer, sep_token=\"[SEP]\", bs=len(test_df), training=False)"
   ]
  },
  {
   "cell_type": "code",
   "execution_count": null,
   "metadata": {},
   "outputs": [],
   "source": [
    "# one batch of test_dl\n",
    "batch = next(iter(test_dl))"
   ]
  },
  {
   "cell_type": "code",
   "execution_count": null,
   "metadata": {},
   "outputs": [],
   "source": [
    "def predict(trainer, test_dl, int2label):\n",
    "    preds = trainer.predict(test_dl)[0][\"logits\"].argmax(1).numpy().astype(int)\n",
    "    preds = preds.tolist()\n",
    "    preds = [int2label[pred] for pred in preds]\n",
    "    return preds"
   ]
  },
  {
   "cell_type": "code",
   "execution_count": null,
   "metadata": {},
   "outputs": [
    {
     "data": {
      "text/plain": [
       "{'Id': tensor([  1,   2,   3,   4,   5,   6,   7,   8,   9,  10,  11,  12,  13,  14,\n",
       "          15,  16,  17,  18,  19,  20,  21,  22,  23,  24,  25,  26,  27,  28,\n",
       "          29,  30,  31,  32,  33,  34,  35,  36,  37,  38,  39,  40,  41,  42,\n",
       "          43,  44,  45,  46,  47,  48,  49,  50,  51,  52,  53,  54,  55,  56,\n",
       "          57,  58,  59,  60,  61,  62,  63,  64,  65,  66,  67,  68,  69,  70,\n",
       "          71,  72,  73,  74,  75,  76,  77,  78,  79,  80,  81,  82,  83,  84,\n",
       "          85,  86,  87,  88,  89,  90,  91,  92,  93,  94,  95,  96,  97,  98,\n",
       "          99, 100, 101, 102, 103, 104, 105, 106, 107, 108, 109, 110, 111, 112,\n",
       "         113, 114, 115, 116, 117, 118, 119, 120, 121, 122, 123, 124, 125, 126,\n",
       "         127, 128, 129, 130, 131, 132, 133, 134, 135, 136, 137, 138, 139, 140,\n",
       "         141, 142, 143, 144, 145, 146, 147, 148, 149, 150, 151, 152, 153, 154,\n",
       "         155, 156, 157, 158, 159, 160, 161, 162, 163, 164, 165, 166, 167, 168,\n",
       "         169, 170, 171, 172, 173, 174, 175, 176, 177, 178, 179, 180, 181, 182,\n",
       "         183, 184, 185, 186, 187, 188, 189, 190, 191, 192, 193, 194, 195, 196,\n",
       "         197, 198, 199, 200, 201, 202, 203, 204, 205, 206, 207, 208, 209, 210,\n",
       "         211, 212, 213, 214, 215, 216, 217, 218, 219, 220, 221, 222, 223, 224,\n",
       "         225, 226, 227, 228, 229, 230, 231, 232, 233, 234, 235, 236, 237, 238,\n",
       "         239, 240, 241, 242, 243, 244, 245, 246, 247, 248, 249, 250, 251, 252,\n",
       "         253, 254, 255, 256, 257, 258, 259, 260, 261, 262, 263, 264, 265, 266,\n",
       "         267, 268, 269, 270, 271, 272, 273, 274, 275, 276, 277, 278, 279, 280,\n",
       "         281, 282, 283, 284, 285, 286, 287, 288, 289, 290, 291, 292, 293, 294,\n",
       "         295, 296, 297, 298, 299, 300, 301, 302, 303, 304, 305, 306, 307, 308,\n",
       "         309, 310, 311, 312]),\n",
       " 'input_ids': tensor([[     1,   7947, 100085,  ...,      0,      0,      0],\n",
       "         [     1,  47446,  47319,  ...,      0,      0,      0],\n",
       "         [     1,    745,  61262,  ...,      0,      0,      0],\n",
       "         ...,\n",
       "         [     1,   4705,    270,  ...,      0,      0,      0],\n",
       "         [     1,  19674,  19725,  ...,      0,      0,      0],\n",
       "         [     1,    262,   1799,  ...,      0,      0,      0]]),\n",
       " 'token_type_ids': tensor([[0, 0, 0,  ..., 0, 0, 0],\n",
       "         [0, 0, 0,  ..., 0, 0, 0],\n",
       "         [0, 0, 0,  ..., 0, 0, 0],\n",
       "         ...,\n",
       "         [0, 0, 0,  ..., 0, 0, 0],\n",
       "         [0, 0, 0,  ..., 0, 0, 0],\n",
       "         [0, 0, 0,  ..., 0, 0, 0]]),\n",
       " 'attention_mask': tensor([[1, 1, 1,  ..., 0, 0, 0],\n",
       "         [1, 1, 1,  ..., 0, 0, 0],\n",
       "         [1, 1, 1,  ..., 0, 0, 0],\n",
       "         ...,\n",
       "         [1, 1, 1,  ..., 0, 0, 0],\n",
       "         [1, 1, 1,  ..., 0, 0, 0],\n",
       "         [1, 1, 1,  ..., 0, 0, 0]])}"
      ]
     },
     "execution_count": null,
     "metadata": {},
     "output_type": "execute_result"
    }
   ],
   "source": [
    "batch"
   ]
  },
  {
   "cell_type": "code",
   "execution_count": null,
   "metadata": {},
   "outputs": [
    {
     "data": {
      "text/plain": [
       "[9, 2, 9, 2, 9]"
      ]
     },
     "execution_count": null,
     "metadata": {},
     "output_type": "execute_result"
    }
   ],
   "source": [
    "preds = trainer.predict(test_dl)[0][\"logits\"].argmax(1).numpy().astype(int)\n",
    "preds.tolist()[:5]"
   ]
  },
  {
   "cell_type": "code",
   "execution_count": null,
   "metadata": {},
   "outputs": [],
   "source": [
    "string_preds = [int2label[pred] for pred in preds]"
   ]
  },
  {
   "cell_type": "code",
   "execution_count": null,
   "metadata": {},
   "outputs": [
    {
     "data": {
      "text/plain": [
       "[' Radiology', ' Surgery', ' Radiology', ' Surgery', ' Radiology']"
      ]
     },
     "execution_count": null,
     "metadata": {},
     "output_type": "execute_result"
    }
   ],
   "source": [
    "string_preds[:5]"
   ]
  },
  {
   "cell_type": "code",
   "execution_count": null,
   "metadata": {},
   "outputs": [
    {
     "data": {
      "text/plain": [
       "Index([  1,   2,   3,   4,   5,   6,   7,   8,   9,  10,\n",
       "       ...\n",
       "       303, 304, 305, 306, 307, 308, 309, 310, 311, 312],\n",
       "      dtype='int64', name='Id', length=312)"
      ]
     },
     "execution_count": null,
     "metadata": {},
     "output_type": "execute_result"
    }
   ],
   "source": [
    "test_df.index"
   ]
  },
  {
   "cell_type": "code",
   "execution_count": null,
   "metadata": {},
   "outputs": [],
   "source": [
    "# create submission\n",
    "submission = pd.DataFrame({\"Id\": test_df.index, \"medical_specialty\": string_preds})\n",
    "# submission.to_csv(\"submission.csv\", index=False)"
   ]
  },
  {
   "cell_type": "code",
   "execution_count": null,
   "metadata": {},
   "outputs": [
    {
     "data": {
      "text/html": [
       "<div>\n",
       "<style scoped>\n",
       "    .dataframe tbody tr th:only-of-type {\n",
       "        vertical-align: middle;\n",
       "    }\n",
       "\n",
       "    .dataframe tbody tr th {\n",
       "        vertical-align: top;\n",
       "    }\n",
       "\n",
       "    .dataframe thead th {\n",
       "        text-align: right;\n",
       "    }\n",
       "</style>\n",
       "<table border=\"1\" class=\"dataframe\">\n",
       "  <thead>\n",
       "    <tr style=\"text-align: right;\">\n",
       "      <th></th>\n",
       "      <th>Id</th>\n",
       "      <th>medical_specialty</th>\n",
       "    </tr>\n",
       "  </thead>\n",
       "  <tbody>\n",
       "    <tr>\n",
       "      <th>0</th>\n",
       "      <td>1</td>\n",
       "      <td>Radiology</td>\n",
       "    </tr>\n",
       "    <tr>\n",
       "      <th>1</th>\n",
       "      <td>2</td>\n",
       "      <td>Surgery</td>\n",
       "    </tr>\n",
       "    <tr>\n",
       "      <th>2</th>\n",
       "      <td>3</td>\n",
       "      <td>Radiology</td>\n",
       "    </tr>\n",
       "    <tr>\n",
       "      <th>3</th>\n",
       "      <td>4</td>\n",
       "      <td>Surgery</td>\n",
       "    </tr>\n",
       "    <tr>\n",
       "      <th>4</th>\n",
       "      <td>5</td>\n",
       "      <td>Radiology</td>\n",
       "    </tr>\n",
       "  </tbody>\n",
       "</table>\n",
       "</div>"
      ],
      "text/plain": [
       "   Id medical_specialty\n",
       "0   1         Radiology\n",
       "1   2           Surgery\n",
       "2   3         Radiology\n",
       "3   4           Surgery\n",
       "4   5         Radiology"
      ]
     },
     "execution_count": null,
     "metadata": {},
     "output_type": "execute_result"
    }
   ],
   "source": [
    "submission.head()"
   ]
  },
  {
   "cell_type": "markdown",
   "metadata": {},
   "source": [
    "## Debugging Section"
   ]
  },
  {
   "cell_type": "code",
   "execution_count": null,
   "metadata": {},
   "outputs": [
    {
     "name": "stderr",
     "output_type": "stream",
     "text": [
      "Special tokens have been added in the vocabulary, make sure the associated word embeddings are fine-tuned or trained.\n",
      "/home/eleven/mambaforge/envs/nlpbook/lib/python3.10/site-packages/transformers/convert_slow_tokenizer.py:454: UserWarning: The sentencepiece tokenizer that you are converting to a fast tokenizer uses the byte fallback option which is not implemented in the fast tokenizers. In practice this means that the fast version of the tokenizer can produce unknown tokens whereas the sentencepiece version would have converted these unknown tokens into a sequence of byte tokens matching the original piece of text.\n",
      "  warnings.warn(\n",
      "Special tokens have been added in the vocabulary, make sure the associated word embeddings are fine-tuned or trained.\n"
     ]
    },
    {
     "data": {
      "application/vnd.jupyter.widget-view+json": {
       "model_id": "3d8393a34053408fad71aed549f87504",
       "version_major": 2,
       "version_minor": 0
      },
      "text/plain": [
       "Map:   0%|          | 0/3384 [00:00<?, ? examples/s]"
      ]
     },
     "metadata": {},
     "output_type": "display_data"
    },
    {
     "name": "stderr",
     "output_type": "stream",
     "text": [
      "Asking to truncate to max_length but no maximum length is provided and the model has no predefined maximum length. Default to no truncation.\n",
      "Some weights of the model checkpoint at microsoft/deberta-v3-small were not used when initializing DebertaV2ForSequenceClassification: ['lm_predictions.lm_head.bias', 'mask_predictions.LayerNorm.bias', 'lm_predictions.lm_head.LayerNorm.weight', 'mask_predictions.classifier.bias', 'lm_predictions.lm_head.LayerNorm.bias', 'mask_predictions.dense.weight', 'mask_predictions.dense.bias', 'lm_predictions.lm_head.dense.weight', 'mask_predictions.classifier.weight', 'lm_predictions.lm_head.dense.bias', 'mask_predictions.LayerNorm.weight']\n",
      "- This IS expected if you are initializing DebertaV2ForSequenceClassification from the checkpoint of a model trained on another task or with another architecture (e.g. initializing a BertForSequenceClassification model from a BertForPreTraining model).\n",
      "- This IS NOT expected if you are initializing DebertaV2ForSequenceClassification from the checkpoint of a model that you expect to be exactly identical (initializing a BertForSequenceClassification model from a BertForSequenceClassification model).\n",
      "Some weights of DebertaV2ForSequenceClassification were not initialized from the model checkpoint at microsoft/deberta-v3-small and are newly initialized: ['pooler.dense.bias', 'classifier.weight', 'pooler.dense.weight', 'classifier.bias']\n",
      "You should probably TRAIN this model on a down-stream task to be able to use it for predictions and inference.\n"
     ]
    },
    {
     "data": {
      "text/html": [
       "Finishing last run (ID:mupgw9qa) before initializing another..."
      ],
      "text/plain": [
       "<IPython.core.display.HTML object>"
      ]
     },
     "metadata": {},
     "output_type": "display_data"
    },
    {
     "data": {
      "text/html": [
       "Waiting for W&B process to finish... <strong style=\"color:green\">(success).</strong>"
      ],
      "text/plain": [
       "<IPython.core.display.HTML object>"
      ]
     },
     "metadata": {},
     "output_type": "display_data"
    },
    {
     "data": {
      "application/vnd.jupyter.widget-view+json": {
       "model_id": "9d3d0afa4110411cbbbbc4931d92b879",
       "version_major": 2,
       "version_minor": 0
      },
      "text/plain": [
       "VBox(children=(Label(value='0.002 MB of 0.032 MB uploaded (0.000 MB deduped)\\r'), FloatProgress(value=0.063126…"
      ]
     },
     "metadata": {},
     "output_type": "display_data"
    },
    {
     "data": {
      "text/html": [
       "<style>\n",
       "    table.wandb td:nth-child(1) { padding: 0 10px; text-align: left ; width: auto;} td:nth-child(2) {text-align: left ; width: 100%}\n",
       "    .wandb-row { display: flex; flex-direction: row; flex-wrap: wrap; justify-content: flex-start; width: 100% }\n",
       "    .wandb-col { display: flex; flex-direction: column; flex-basis: 100%; flex: 1; padding: 10px; }\n",
       "    </style>\n",
       "<div class=\"wandb-row\"><div class=\"wandb-col\"><h3>Run history:</h3><br/><table class=\"wandb\"><tr><td>loss/train/total</td><td>███████▇▇▆▅▄▄▄▃▃▄▃▃▃▃▂▃▃▂▂▂▂▂▂▃▁▃▁▃▁▂▁▃▂</td></tr><tr><td>metrics/eval/CrossEntropy</td><td>█▃▁▁</td></tr><tr><td>metrics/eval/MulticlassF1Score</td><td>▁▅██</td></tr><tr><td>metrics/train/CrossEntropy</td><td>███████▇▇▆▆▄▄▄▄▄▄▃▃▃▃▃▂▃▂▃▂▂▃▂▂▂▃▂▁▂▂▁▂▂</td></tr><tr><td>metrics/train/MulticlassF1Score</td><td>▁▁▁▂▁▂▂▂▃▄▄▅▅▄▄▅▅▆▅▆▆▆▆▆▆▆▇▇▇▆▆▆▅▆█▇▇▇▆▆</td></tr><tr><td>time/batch</td><td>▁▁▁▁▂▂▂▂▂▃▃▃▃▃▃▄▄▄▄▄▅▅▅▅▅▅▆▆▆▆▆▇▇▇▇▇▇███</td></tr><tr><td>time/batch_in_epoch</td><td>▁▂▂▃▄▅▅▆▇█▁▂▂▃▄▅▆▆▇█▁▂▃▃▄▅▆▇▇█▁▂▃▄▅▅▆▇▇▁</td></tr><tr><td>time/epoch</td><td>▁▃▅▆█</td></tr><tr><td>time/sample</td><td>▁▁▁▁▂▂▂▂▂▃▃▃▃▃▃▄▄▄▄▄▅▅▅▅▅▅▆▆▆▆▆▇▇▇▇▇▇███</td></tr><tr><td>time/sample_in_epoch</td><td>▁▂▂▃▄▅▅▆▇█▁▂▂▃▄▅▆▆▇█▁▂▃▃▄▅▆▇▇█▁▂▃▄▅▅▆▇▇▁</td></tr><tr><td>time/token</td><td>▁▁▁▂▂▂▂▂▂▃▃▃▃▃▃▄▄▄▄▄▅▅▅▅▅▅▆▆▆▆▆▆▇▇▇▇▇███</td></tr><tr><td>time/token_in_epoch</td><td>▁▂▂▃▄▅▅▆▇█▁▂▂▃▄▅▆▆▇█▁▂▂▃▄▅▆▆▇█▁▂▃▃▄▅▆▆▇█</td></tr><tr><td>trainer/device_train_microbatch_size</td><td>▁▁▁▁▁▁▁▁▁▁▁▁▁▁▁▁▁▁▁▁▁▁▁▁▁▁▁▁▁▁▁▁▁▁▁▁▁▁▁▁</td></tr></table><br/></div><div class=\"wandb-col\"><h3>Run summary:</h3><br/><table class=\"wandb\"><tr><td>loss/train/total</td><td>2.40622</td></tr><tr><td>metrics/eval/CrossEntropy</td><td>2.5141</td></tr><tr><td>metrics/eval/MulticlassF1Score</td><td>0.32993</td></tr><tr><td>metrics/train/CrossEntropy</td><td>2.40624</td></tr><tr><td>metrics/train/MulticlassF1Score</td><td>0.32031</td></tr><tr><td>time/batch</td><td>84</td></tr><tr><td>time/batch_in_epoch</td><td>0</td></tr><tr><td>time/epoch</td><td>4</td></tr><tr><td>time/sample</td><td>10752</td></tr><tr><td>time/sample_in_epoch</td><td>0</td></tr><tr><td>time/token</td><td>1147392</td></tr><tr><td>time/token_in_epoch</td><td>276480</td></tr><tr><td>trainer/device_train_microbatch_size</td><td>128</td></tr></table><br/></div></div>"
      ],
      "text/plain": [
       "<IPython.core.display.HTML object>"
      ]
     },
     "metadata": {},
     "output_type": "display_data"
    },
    {
     "data": {
      "text/html": [
       " View run <strong style=\"color:#cdcd00\">test</strong> at: <a href='https://wandb.ai/jimmiemunyi/medical-specialty-classification/runs/mupgw9qa' target=\"_blank\">https://wandb.ai/jimmiemunyi/medical-specialty-classification/runs/mupgw9qa</a><br/>Synced 6 W&B file(s), 0 media file(s), 0 artifact file(s) and 0 other file(s)"
      ],
      "text/plain": [
       "<IPython.core.display.HTML object>"
      ]
     },
     "metadata": {},
     "output_type": "display_data"
    },
    {
     "data": {
      "text/html": [
       "Find logs at: <code>./wandb/run-20230711_140213-mupgw9qa/logs</code>"
      ],
      "text/plain": [
       "<IPython.core.display.HTML object>"
      ]
     },
     "metadata": {},
     "output_type": "display_data"
    },
    {
     "data": {
      "text/html": [
       "Successfully finished last run (ID:mupgw9qa). Initializing new run:<br/>"
      ],
      "text/plain": [
       "<IPython.core.display.HTML object>"
      ]
     },
     "metadata": {},
     "output_type": "display_data"
    },
    {
     "data": {
      "application/vnd.jupyter.widget-view+json": {
       "model_id": "0638f2f45b2d45e396545a52a2bf4a69",
       "version_major": 2,
       "version_minor": 0
      },
      "text/plain": [
       "VBox(children=(Label(value='Waiting for wandb.init()...\\r'), FloatProgress(value=0.016669566733329096, max=1.0…"
      ]
     },
     "metadata": {},
     "output_type": "display_data"
    },
    {
     "data": {
      "text/html": [
       "wandb version 0.15.5 is available!  To upgrade, please run:\n",
       " $ pip install wandb --upgrade"
      ],
      "text/plain": [
       "<IPython.core.display.HTML object>"
      ]
     },
     "metadata": {},
     "output_type": "display_data"
    },
    {
     "data": {
      "text/html": [
       "Tracking run with wandb version 0.15.4"
      ],
      "text/plain": [
       "<IPython.core.display.HTML object>"
      ]
     },
     "metadata": {},
     "output_type": "display_data"
    },
    {
     "data": {
      "text/html": [
       "Run data is saved locally in <code>/home/eleven/code/personal/medical-specialty-classification/nbs/wandb/run-20230711_140315-ngujfrjo</code>"
      ],
      "text/plain": [
       "<IPython.core.display.HTML object>"
      ]
     },
     "metadata": {},
     "output_type": "display_data"
    },
    {
     "data": {
      "text/html": [
       "Syncing run <strong><a href='https://wandb.ai/jimmiemunyi/medical-specialty-classification/runs/ngujfrjo' target=\"_blank\">baseline</a></strong> to <a href='https://wandb.ai/jimmiemunyi/medical-specialty-classification' target=\"_blank\">Weights & Biases</a> (<a href='https://wandb.me/run' target=\"_blank\">docs</a>)<br/>"
      ],
      "text/plain": [
       "<IPython.core.display.HTML object>"
      ]
     },
     "metadata": {},
     "output_type": "display_data"
    },
    {
     "data": {
      "text/html": [
       " View project at <a href='https://wandb.ai/jimmiemunyi/medical-specialty-classification' target=\"_blank\">https://wandb.ai/jimmiemunyi/medical-specialty-classification</a>"
      ],
      "text/plain": [
       "<IPython.core.display.HTML object>"
      ]
     },
     "metadata": {},
     "output_type": "display_data"
    },
    {
     "data": {
      "text/html": [
       " View run at <a href='https://wandb.ai/jimmiemunyi/medical-specialty-classification/runs/ngujfrjo' target=\"_blank\">https://wandb.ai/jimmiemunyi/medical-specialty-classification/runs/ngujfrjo</a>"
      ],
      "text/plain": [
       "<IPython.core.display.HTML object>"
      ]
     },
     "metadata": {},
     "output_type": "display_data"
    },
    {
     "data": {
      "text/html": [
       "Waiting for W&B process to finish... <strong style=\"color:green\">(success).</strong>"
      ],
      "text/plain": [
       "<IPython.core.display.HTML object>"
      ]
     },
     "metadata": {},
     "output_type": "display_data"
    },
    {
     "data": {
      "application/vnd.jupyter.widget-view+json": {
       "model_id": "261b13cbfc2b40908bf30e51a2c14755",
       "version_major": 2,
       "version_minor": 0
      },
      "text/plain": [
       "VBox(children=(Label(value='0.002 MB of 0.028 MB uploaded (0.000 MB deduped)\\r'), FloatProgress(value=0.070619…"
      ]
     },
     "metadata": {},
     "output_type": "display_data"
    },
    {
     "data": {
      "text/html": [
       " View run <strong style=\"color:#cdcd00\">baseline</strong> at: <a href='https://wandb.ai/jimmiemunyi/medical-specialty-classification/runs/ngujfrjo' target=\"_blank\">https://wandb.ai/jimmiemunyi/medical-specialty-classification/runs/ngujfrjo</a><br/>Synced 5 W&B file(s), 0 media file(s), 0 artifact file(s) and 0 other file(s)"
      ],
      "text/plain": [
       "<IPython.core.display.HTML object>"
      ]
     },
     "metadata": {},
     "output_type": "display_data"
    },
    {
     "data": {
      "text/html": [
       "Find logs at: <code>./wandb/run-20230711_140315-ngujfrjo/logs</code>"
      ],
      "text/plain": [
       "<IPython.core.display.HTML object>"
      ]
     },
     "metadata": {},
     "output_type": "display_data"
    }
   ],
   "source": [
    "checkpoint = \"microsoft/deberta-v3-small\"\n",
    "sep_token = \"[SEP]\"\n",
    "bs = 128\n",
    "lr = 8e-5\n",
    "wd = 0.01\n",
    "epochs = 4\n",
    "num_labels = len(label2int)\n",
    "run_name = \"baseline\"\n",
    "\n",
    "tokenizer = AutoTokenizer.from_pretrained(checkpoint)\n",
    "train_dl, val_dl = prepare_data(train_df, tokenizer, sep_token, bs)\n",
    "model = prepare_model(checkpoint, tokenizer, num_labels)\n",
    "\n",
    "\n",
    "# preparing optimizer and scheduler\n",
    "optimizer, scheduler = prepare_optimizer_and_scheduler(model, \n",
    "                                                        lr, \n",
    "                                                        wd, \n",
    "                                                        epochs, \n",
    "                                                        train_dl)\n",
    "                                                        \n",
    "\n",
    "# preparing trainer\n",
    "trainer = prepare_trainer(model, \n",
    "                            optimizer, \n",
    "                            scheduler, \n",
    "                            train_dl, \n",
    "                            val_dl, \n",
    "                            epochs, \n",
    "                            run_name)"
   ]
  },
  {
   "cell_type": "code",
   "execution_count": null,
   "metadata": {},
   "outputs": [
    {
     "data": {
      "text/plain": [
       "AdamW (\n",
       "Parameter Group 0\n",
       "    amsgrad: False\n",
       "    base_momentum: 0.85\n",
       "    betas: (0.95, 0.98)\n",
       "    capturable: False\n",
       "    differentiable: False\n",
       "    eps: 1e-06\n",
       "    foreach: None\n",
       "    fused: None\n",
       "    initial_lr: 3.2000000000000003e-06\n",
       "    lr: 3.1999999999999965e-06\n",
       "    max_lr: 8e-05\n",
       "    max_momentum: 0.95\n",
       "    maximize: False\n",
       "    min_lr: 3.2000000000000003e-10\n",
       "    weight_decay: 0.01\n",
       ")"
      ]
     },
     "execution_count": null,
     "metadata": {},
     "output_type": "execute_result"
    }
   ],
   "source": [
    "optimizer"
   ]
  },
  {
   "cell_type": "code",
   "execution_count": null,
   "metadata": {},
   "outputs": [
    {
     "data": {
      "text/plain": [
       "<torch.optim.lr_scheduler.OneCycleLR>"
      ]
     },
     "execution_count": null,
     "metadata": {},
     "output_type": "execute_result"
    },
    {
     "ename": "",
     "evalue": "",
     "output_type": "error",
     "traceback": [
      "\u001b[1;31mThe Kernel crashed while executing code in the the current cell or a previous cell. Please review the code in the cell(s) to identify a possible cause of the failure. Click <a href='https://aka.ms/vscodeJupyterKernelCrash'>here</a> for more info. View Jupyter <a href='command:jupyter.viewOutput'>log</a> for further details."
     ]
    }
   ],
   "source": [
    "scheduler"
   ]
  },
  {
   "cell_type": "code",
   "execution_count": null,
   "metadata": {},
   "outputs": [],
   "source": []
  }
 ],
 "metadata": {
  "kernelspec": {
   "display_name": "python3",
   "language": "python",
   "name": "python3"
  }
 },
 "nbformat": 4,
 "nbformat_minor": 2
}
